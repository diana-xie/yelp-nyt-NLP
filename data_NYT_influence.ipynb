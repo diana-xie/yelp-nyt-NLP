{
 "cells": [
  {
   "cell_type": "code",
   "execution_count": 1,
   "metadata": {},
   "outputs": [],
   "source": [
    "import pandas as pd\n",
    "import numpy as np\n",
    "\n",
    "import seaborn as sns\n",
    "import matplotlib.pyplot as plt\n",
    "import matplotlib as mpl \n",
    "%matplotlib inline\n",
    "mpl.rcParams['patch.force_edgecolor'] = True\n",
    "sns.set()"
   ]
  },
  {
   "cell_type": "markdown",
   "metadata": {},
   "source": [
    "# 1. Timeseries analysis\n",
    "\n",
    "In this section, we tokenize and pre-process our documents for inputting into NLP algorithms. Our final output is a gensim corpus, which consists of a list of documents:\n",
    "\n",
    "- Each document <i>represents</i> a tokenized, pre-processed Yelp review's text \n",
    "- Each document <i>structure</i> is a numerically-mapped token and its frequency in the document "
   ]
  },
  {
   "cell_type": "markdown",
   "metadata": {},
   "source": [
    "#### Get the data we have so far"
   ]
  },
  {
   "cell_type": "code",
   "execution_count": 3,
   "metadata": {},
   "outputs": [],
   "source": [
    "df_nyt_yelp = pd.read_pickle('import/df_nyt_yelp.pkl')\n",
    "df_reviews = pd.read_pickle('import/df_reviews.pkl')"
   ]
  },
  {
   "cell_type": "markdown",
   "metadata": {},
   "source": [
    "## 1.1. Set up time series analysis\n",
    "\n",
    "We bin each restaurant's Yelp reviews by week and take the average Yelp rating and number of reviews posted to Yelp."
   ]
  },
  {
   "cell_type": "code",
   "execution_count": 4,
   "metadata": {},
   "outputs": [
    {
     "data": {
      "text/html": [
       "<div>\n",
       "<style scoped>\n",
       "    .dataframe tbody tr th:only-of-type {\n",
       "        vertical-align: middle;\n",
       "    }\n",
       "\n",
       "    .dataframe tbody tr th {\n",
       "        vertical-align: top;\n",
       "    }\n",
       "\n",
       "    .dataframe thead th {\n",
       "        text-align: right;\n",
       "    }\n",
       "</style>\n",
       "<table border=\"1\" class=\"dataframe\">\n",
       "  <thead>\n",
       "    <tr style=\"text-align: right;\">\n",
       "      <th></th>\n",
       "      <th>nyt_name</th>\n",
       "      <th>nyt_review_time</th>\n",
       "      <th>yelp_id</th>\n",
       "      <th>isclosed</th>\n",
       "      <th>yelp_rating</th>\n",
       "      <th>reviewcount</th>\n",
       "      <th>yelp_price</th>\n",
       "      <th>yelp_url</th>\n",
       "      <th>yelp_name</th>\n",
       "      <th>critics_pick</th>\n",
       "      <th>nyt_stars</th>\n",
       "      <th>window</th>\n",
       "      <th>window_average</th>\n",
       "      <th>window_count</th>\n",
       "    </tr>\n",
       "  </thead>\n",
       "  <tbody>\n",
       "    <tr>\n",
       "      <th>0</th>\n",
       "      <td>Davelle</td>\n",
       "      <td>2018-06-07</td>\n",
       "      <td>PwrYnl3j3YCGzILX_5UHpw</td>\n",
       "      <td>False</td>\n",
       "      <td>4.0</td>\n",
       "      <td>47.0</td>\n",
       "      <td>2</td>\n",
       "      <td>https://www.yelp.com/biz/davelle-new-york-2</td>\n",
       "      <td>Davelle</td>\n",
       "      <td>y</td>\n",
       "      <td>NaN</td>\n",
       "      <td>[2018-03-07T00:00:00.000000000, 2018-03-14T00:...</td>\n",
       "      <td>[nan, 5.0, 4.857142857142857, 4.77777777777777...</td>\n",
       "      <td>[4, 3, 2, 4, 4, 6, 3, 1, 2, 6, 0, 2, 2, 2, 3, 1]</td>\n",
       "    </tr>\n",
       "    <tr>\n",
       "      <th>1</th>\n",
       "      <td>Lahi</td>\n",
       "      <td>2018-05-31</td>\n",
       "      <td>kDqW1eeZEDTitXerwzwCzw</td>\n",
       "      <td>False</td>\n",
       "      <td>4.0</td>\n",
       "      <td>34.0</td>\n",
       "      <td>$$</td>\n",
       "      <td>https://www.yelp.com/biz/lahi-elmhurst</td>\n",
       "      <td>Lahi</td>\n",
       "      <td>n</td>\n",
       "      <td>NaN</td>\n",
       "      <td>[2018-04-03T00:00:00.000000000, 2018-04-10T00:...</td>\n",
       "      <td>[nan, 5.0, 4.0, 4.0, 4.0, 4.222222222222222, 4...</td>\n",
       "      <td>[1, 4, 0, 1, 3, 3, 3, 1, 0, 1, 1, 0, 0]</td>\n",
       "    </tr>\n",
       "    <tr>\n",
       "      <th>2</th>\n",
       "      <td>Don Angie</td>\n",
       "      <td>2018-05-29</td>\n",
       "      <td>h37t9rA06Sr4EetJjKrfzw</td>\n",
       "      <td>False</td>\n",
       "      <td>4.5</td>\n",
       "      <td>126.0</td>\n",
       "      <td>3</td>\n",
       "      <td>https://www.yelp.com/biz/don-angie-new-york</td>\n",
       "      <td>Don Angie</td>\n",
       "      <td>y</td>\n",
       "      <td>4.0</td>\n",
       "      <td>[2017-10-10T00:00:00.000000000, 2017-10-17T00:...</td>\n",
       "      <td>[nan, 5.0, 4.8, 4.833333333333333, 4.8, 4.8461...</td>\n",
       "      <td>[3, 2, 1, 4, 3, 1, 2, 6, 4, 4, 1, 4, 4, 5, 8, ...</td>\n",
       "    </tr>\n",
       "    <tr>\n",
       "      <th>3</th>\n",
       "      <td>Rangoon Spoon</td>\n",
       "      <td>2018-05-24</td>\n",
       "      <td>chdmH_y3YReZgIlNzj8djQ</td>\n",
       "      <td>False</td>\n",
       "      <td>3.5</td>\n",
       "      <td>55.0</td>\n",
       "      <td>2</td>\n",
       "      <td>https://www.yelp.com/biz/rangoon-spoon-brooklyn</td>\n",
       "      <td>Rangoon Spoon</td>\n",
       "      <td>n</td>\n",
       "      <td>NaN</td>\n",
       "      <td>[2017-09-24T00:00:00.000000000, 2017-10-01T00:...</td>\n",
       "      <td>[nan, 4.0, 4.0, 3.7142857142857144, 3.5, 3.315...</td>\n",
       "      <td>[1, 4, 2, 7, 5, 5, 2, 1, 2, 1, 6, 0, 1, 0, 1, ...</td>\n",
       "    </tr>\n",
       "    <tr>\n",
       "      <th>4</th>\n",
       "      <td>Wokuni</td>\n",
       "      <td>2018-05-22</td>\n",
       "      <td>D6ZEcG1FCZ18nekMWrhgMg</td>\n",
       "      <td>False</td>\n",
       "      <td>4.0</td>\n",
       "      <td>60.0</td>\n",
       "      <td>3</td>\n",
       "      <td>https://www.yelp.com/biz/wokuni-new-york</td>\n",
       "      <td>Wokuni</td>\n",
       "      <td>n</td>\n",
       "      <td>3.0</td>\n",
       "      <td>[2017-09-28T00:00:00.000000000, 2017-10-05T00:...</td>\n",
       "      <td>[nan, 5.0, 4.333333333333333, 4.5, 3.428571428...</td>\n",
       "      <td>[1, 2, 1, 3, 1, 1, 0, 1, 2, 1, 0, 1, 1, 1, 0, ...</td>\n",
       "    </tr>\n",
       "  </tbody>\n",
       "</table>\n",
       "</div>"
      ],
      "text/plain": [
       "        nyt_name nyt_review_time                 yelp_id isclosed  \\\n",
       "0        Davelle      2018-06-07  PwrYnl3j3YCGzILX_5UHpw    False   \n",
       "1           Lahi      2018-05-31  kDqW1eeZEDTitXerwzwCzw    False   \n",
       "2      Don Angie      2018-05-29  h37t9rA06Sr4EetJjKrfzw    False   \n",
       "3  Rangoon Spoon      2018-05-24  chdmH_y3YReZgIlNzj8djQ    False   \n",
       "4         Wokuni      2018-05-22  D6ZEcG1FCZ18nekMWrhgMg    False   \n",
       "\n",
       "   yelp_rating  reviewcount yelp_price  \\\n",
       "0          4.0         47.0          2   \n",
       "1          4.0         34.0         $$   \n",
       "2          4.5        126.0          3   \n",
       "3          3.5         55.0          2   \n",
       "4          4.0         60.0          3   \n",
       "\n",
       "                                          yelp_url      yelp_name  \\\n",
       "0      https://www.yelp.com/biz/davelle-new-york-2        Davelle   \n",
       "1           https://www.yelp.com/biz/lahi-elmhurst           Lahi   \n",
       "2      https://www.yelp.com/biz/don-angie-new-york      Don Angie   \n",
       "3  https://www.yelp.com/biz/rangoon-spoon-brooklyn  Rangoon Spoon   \n",
       "4         https://www.yelp.com/biz/wokuni-new-york         Wokuni   \n",
       "\n",
       "  critics_pick  nyt_stars                                             window  \\\n",
       "0            y        NaN  [2018-03-07T00:00:00.000000000, 2018-03-14T00:...   \n",
       "1            n        NaN  [2018-04-03T00:00:00.000000000, 2018-04-10T00:...   \n",
       "2            y        4.0  [2017-10-10T00:00:00.000000000, 2017-10-17T00:...   \n",
       "3            n        NaN  [2017-09-24T00:00:00.000000000, 2017-10-01T00:...   \n",
       "4            n        3.0  [2017-09-28T00:00:00.000000000, 2017-10-05T00:...   \n",
       "\n",
       "                                      window_average  \\\n",
       "0  [nan, 5.0, 4.857142857142857, 4.77777777777777...   \n",
       "1  [nan, 5.0, 4.0, 4.0, 4.0, 4.222222222222222, 4...   \n",
       "2  [nan, 5.0, 4.8, 4.833333333333333, 4.8, 4.8461...   \n",
       "3  [nan, 4.0, 4.0, 3.7142857142857144, 3.5, 3.315...   \n",
       "4  [nan, 5.0, 4.333333333333333, 4.5, 3.428571428...   \n",
       "\n",
       "                                        window_count  \n",
       "0   [4, 3, 2, 4, 4, 6, 3, 1, 2, 6, 0, 2, 2, 2, 3, 1]  \n",
       "1            [1, 4, 0, 1, 3, 3, 3, 1, 0, 1, 1, 0, 0]  \n",
       "2  [3, 2, 1, 4, 3, 1, 2, 6, 4, 4, 1, 4, 4, 5, 8, ...  \n",
       "3  [1, 4, 2, 7, 5, 5, 2, 1, 2, 1, 6, 0, 1, 0, 1, ...  \n",
       "4  [1, 2, 1, 3, 1, 1, 0, 1, 2, 1, 0, 1, 1, 1, 0, ...  "
      ]
     },
     "execution_count": 4,
     "metadata": {},
     "output_type": "execute_result"
    }
   ],
   "source": [
    "schedule_total = []\n",
    "schedule_average_total = []\n",
    "windowcount_total = []\n",
    "\n",
    "for idx, row in df_nyt_yelp.iterrows():\n",
    "    \n",
    "    # get reviews for restaurant\n",
    "    df = df_reviews[df_reviews['review_idx']==idx]\n",
    "    \n",
    "    # get dates for each time window (7-day window, beginning w/ first Yelp review)\n",
    "    schedule = df.set_index('review_date').groupby(pd.Grouper(freq='7D')).mean().index.values\n",
    "\n",
    "    # get cumulative Yelp rating average for each window\n",
    "    schedule_average = []\n",
    "    for s in schedule:\n",
    "        window = df[df['review_date'] < s]\n",
    "        schedule_average.append(window['rating'].mean())\n",
    "        \n",
    "    # get number of reviews written during each window\n",
    "    windowcount = []\n",
    "    for idx, s in enumerate(schedule):\n",
    "        if idx < len(schedule)-1:\n",
    "            idx2 = idx+1\n",
    "            count = len(df[(df['review_date'] < schedule[idx2]) & (df['review_date'] >= s)])\n",
    "            windowcount.append(count)\n",
    "    \n",
    "    schedule_total.append(schedule)\n",
    "    schedule_average_total.append(schedule_average)\n",
    "    windowcount_total.append(windowcount)\n",
    "\n",
    "# save results by appending to master restaurant dataframe ('df_nyt_yelp')\n",
    "df_nyt_yelp['window'] = schedule_total\n",
    "df_nyt_yelp['window_average'] = schedule_average_total\n",
    "df_nyt_yelp['window_count'] = windowcount_total\n",
    "df_nyt_yelp.head()"
   ]
  },
  {
   "cell_type": "markdown",
   "metadata": {},
   "source": [
    "Back up results by appending to dataframe and pickling."
   ]
  },
  {
   "cell_type": "code",
   "execution_count": 274,
   "metadata": {},
   "outputs": [],
   "source": [
    "df_nyt_yelp.to_pickle('df_nyt_yelp_pluswindows.pkl')"
   ]
  },
  {
   "cell_type": "markdown",
   "metadata": {},
   "source": [
    "## 1.2 EDA: case study for a restaurant\n",
    "\n",
    "To see what kind of analyses we can do with our time series, we take an example of a restaurant."
   ]
  },
  {
   "cell_type": "markdown",
   "metadata": {},
   "source": [
    "#### Pick restaurant and print info.\n",
    "\n",
    "We choose a restaurant with its first Yelp review in Nov 2017, NYT review in May 2018, 130 reviews total."
   ]
  },
  {
   "cell_type": "code",
   "execution_count": 21,
   "metadata": {},
   "outputs": [
    {
     "name": "stdout",
     "output_type": "stream",
     "text": [
      "nyt_name                                                   Don Angie\n",
      "nyt_review_time                                  2018-05-29 00:00:00\n",
      "yelp_id                                       h37t9rA06Sr4EetJjKrfzw\n",
      "isclosed                                                       False\n",
      "yelp_rating                                                      4.5\n",
      "reviewcount                                                      126\n",
      "yelp_price                                                         3\n",
      "yelp_url                 https://www.yelp.com/biz/don-angie-new-york\n",
      "yelp_name                                                  Don Angie\n",
      "critics_pick                                                       y\n",
      "nyt_stars                                                          4\n",
      "window             [2017-10-10T00:00:00.000000000, 2017-10-17T00:...\n",
      "window_average     [nan, 5.0, 4.8, 4.833333333333333, 4.8, 4.8461...\n",
      "window_count       [3, 2, 1, 4, 3, 1, 2, 6, 4, 4, 1, 4, 4, 5, 8, ...\n",
      "Name: 2, dtype: object\n"
     ]
    }
   ],
   "source": [
    "idx = 2\n",
    "row = df_nyt_yelp.loc[idx]\n",
    "print(row)"
   ]
  },
  {
   "cell_type": "markdown",
   "metadata": {},
   "source": [
    "#### Distribution of weekly average Yelp ratings\n",
    "\n",
    "Visualize weekly average Yelp rating to see if there is a lot of variation, which would indicate weeks where more positive or negative reviews than usual were written."
   ]
  },
  {
   "cell_type": "code",
   "execution_count": 22,
   "metadata": {},
   "outputs": [
    {
     "data": {
      "image/png": "[encoded data removed]",
      "text/plain": [
       "<matplotlib.figure.Figure at 0x127fa530>"
      ]
     },
     "metadata": {},
     "output_type": "display_data"
    }
   ],
   "source": [
    "window_average = row['window_average'][1:]\n",
    "plt.hist(window_average);\n",
    "plt.xlabel('Weekly average Yelp rating');\n",
    "plt.ylabel('Number of weeks');\n",
    "plt.title('Weekly average Yelp rating for \"Don Angie\"');"
   ]
  },
  {
   "cell_type": "markdown",
   "metadata": {},
   "source": [
    "Unfortunately we can't say that it's a normal distribution. If the weekly average Yelp rating was normally distributed, we would be able to determine outliers (maybe 2 standard deviations away from the mean) that would indicate weeks where some event could have given a sudden increase in positive or negative reviews."
   ]
  },
  {
   "cell_type": "markdown",
   "metadata": {},
   "source": [
    "#### Timeline of weekly average Yelp ratings (timeseries plot)\n",
    "\n",
    "Next, we visualize the timeline of weekly average Yelp ratings. In the previous section, where we generated a histogram, chronological information was not present."
   ]
  },
  {
   "cell_type": "code",
   "execution_count": 23,
   "metadata": {},
   "outputs": [
    {
     "data": {
      "image/png": "[encoded data removed]",
      "text/plain": [
       "<matplotlib.figure.Figure at 0x127fa070>"
      ]
     },
     "metadata": {},
     "output_type": "display_data"
    }
   ],
   "source": [
    "plt.figure(figsize=(10,3))\n",
    "plt.plot(row['window'][1:], window_average);\n",
    "plt.xlabel('Week');\n",
    "plt.ylabel('Weekly average Yelp rating');\n",
    "plt.title('Timeline of weekly average Yelp rating');"
   ]
  },
  {
   "cell_type": "markdown",
   "metadata": {},
   "source": [
    "What we are looking for is a noticeable change in the weekly average Yelp rating following the restaurant's NYT review publication (specifically, change in \"slope\" between points). Here, it is 5-29-2018. There doesn't appear to be much of a change around that time - this would indicate the weekly average Yelp rating didn't change much after its NYT review was published."
   ]
  },
  {
   "cell_type": "markdown",
   "metadata": {},
   "source": [
    "## 1.3 Discussion\n",
    "\n",
    "Although we've only presented one case study here, it's clear that there is a lot of variation in weekly average Yelp rating that is not attributable to NYT review publication (see previous timeseries plot). Therefore, it would be difficult to confidently determine whether a NYT review produced a change in weekly Yelp averages just based on week-by-week change in Yelp reviews. As a result, we'll shelve this form of analysis for now."
   ]
  },
  {
   "cell_type": "markdown",
   "metadata": {},
   "source": [
    "# 2. Examine critical time window before/after NYT review"
   ]
  },
  {
   "cell_type": "markdown",
   "metadata": {},
   "source": [
    "We take the critical window period to be 6 months, where we compare the state of Yelp reviews 6 months prior to a NYT dining review and 6 months after."
   ]
  },
  {
   "cell_type": "markdown",
   "metadata": {},
   "source": [
    "## 2.1 Before/after NYT review - individual restaurant EDA\n",
    "\n",
    "Before doing statistical hypothesis tests, we do a quick examination of the state of Yelp reviews for a restaurant, before & after the publication of NYT's review. To do so, we do some exploratory data analysis (EDA) on individual restaurants to see if time windows need to be adjusted, etc."
   ]
  },
  {
   "cell_type": "markdown",
   "metadata": {},
   "source": [
    "#### Examine two individual restaurants - one with many reviews (large), another with few reviews (small).\n",
    "\n",
    "\"Davelle\" is our small restaurant w/ 47 reviews. \"Tim Ho Wan\" is our large restaurant w/ 1197 reviews."
   ]
  },
  {
   "cell_type": "code",
   "execution_count": 8,
   "metadata": {},
   "outputs": [
    {
     "name": "stdout",
     "output_type": "stream",
     "text": [
      "Restaurant info:\n"
     ]
    },
    {
     "data": {
      "text/plain": [
       "nyt_name                                                     Davelle\n",
       "nyt_review_time                                  2018-06-07 00:00:00\n",
       "yelp_id                                       PwrYnl3j3YCGzILX_5UHpw\n",
       "isclosed                                                       False\n",
       "yelp_rating                                                        4\n",
       "reviewcount                                                       47\n",
       "yelp_price                                                         2\n",
       "yelp_url                 https://www.yelp.com/biz/davelle-new-york-2\n",
       "yelp_name                                                    Davelle\n",
       "critics_pick                                                       y\n",
       "nyt_stars                                                        NaN\n",
       "window             [2018-03-07T00:00:00.000000000, 2018-03-14T00:...\n",
       "window_average     [nan, 5.0, 4.857142857142857, 4.77777777777777...\n",
       "window_count        [4, 3, 2, 4, 4, 6, 3, 1, 2, 6, 0, 2, 2, 2, 3, 1]\n",
       "Name: 0, dtype: object"
      ]
     },
     "execution_count": 8,
     "metadata": {},
     "output_type": "execute_result"
    }
   ],
   "source": [
    "idx1=0\n",
    "df1 = df_reviews[df_reviews['review_idx']==idx1]\n",
    "nyt_review_time1 = df_nyt_yelp.loc[idx1, 'nyt_review_time']\n",
    "print('Restaurant info:')\n",
    "df_nyt_yelp.loc[idx1]"
   ]
  },
  {
   "cell_type": "code",
   "execution_count": 9,
   "metadata": {},
   "outputs": [
    {
     "name": "stdout",
     "output_type": "stream",
     "text": [
      "Restaurant info:\n"
     ]
    },
    {
     "data": {
      "text/plain": [
       "nyt_name                                                  Tim Ho Wan\n",
       "nyt_review_time                                  2017-05-30 00:00:00\n",
       "yelp_id                                       SyvC0s3y0ZrtnLbwnvw7tw\n",
       "isclosed                                                       False\n",
       "yelp_rating                                                      3.5\n",
       "reviewcount                                                     1197\n",
       "yelp_price                                                         2\n",
       "yelp_url              https://www.yelp.com/biz/tim-ho-wan-new-york-2\n",
       "yelp_name                                                 Tim Ho Wan\n",
       "critics_pick                                                       y\n",
       "nyt_stars                                                          3\n",
       "window             [2016-12-16T00:00:00.000000000, 2016-12-23T00:...\n",
       "window_average     [nan, 4.0, 3.5945945945945947, 3.3893805309734...\n",
       "window_count       [36, 38, 39, 28, 22, 21, 12, 22, 23, 23, 21, 2...\n",
       "Name: 86, dtype: object"
      ]
     },
     "execution_count": 9,
     "metadata": {},
     "output_type": "execute_result"
    }
   ],
   "source": [
    "idx2=86\n",
    "df2 = df_reviews[df_reviews['review_idx']==idx2]\n",
    "nyt_review_time2 = df_nyt_yelp.loc[idx2, 'nyt_review_time']\n",
    "print('Restaurant info:')\n",
    "df_nyt_yelp.loc[idx2]"
   ]
  },
  {
   "cell_type": "markdown",
   "metadata": {},
   "source": [
    "#### Examine \"before\" & \"after\" w/ 6 month time window\n",
    "\n",
    "Examine Yelp reviews 6 months before and after its NYT review publication."
   ]
  },
  {
   "cell_type": "code",
   "execution_count": 24,
   "metadata": {},
   "outputs": [
    {
     "name": "stdout",
     "output_type": "stream",
     "text": [
      "Davelle (47 reviews):\n",
      "Average Yelp rating 6 months before NYT review:  4.333333333333333\n",
      "Average Yelp rating 6 months after NYT review:  3.5 \n",
      "\n",
      "Tim Ho Wan (1197 reviews):\n",
      "Average Yelp rating 6 months before NYT review:  3.326771653543307\n",
      "Average Yelp rating 6 months after NYT review:  3.570588235294118\n"
     ]
    }
   ],
   "source": [
    "from datetime import datetime, timedelta\n",
    "\n",
    "# get 6 months before NYT review, 6 months after\n",
    "before_time1 = nyt_review_time1 - timedelta(days=180)\n",
    "after_time1 = nyt_review_time1 + timedelta(days=180)\n",
    "\n",
    "# grab reviews before/after NYT review publication\n",
    "before_nyt1 = df1[(df1['review_date'] >= before_time1) & (df1['review_date'] < nyt_review_time1)]\n",
    "after_nyt1 = df1[(df1['review_date'] > nyt_review_time1) & (df1['review_date'] <= after_time1)]\n",
    "\n",
    "# generate indices of \"before\"/\"after\" reviews\n",
    "before_nyt_idx1 = before_nyt1.index.values.tolist()\n",
    "after_nyt_idx1 = after_nyt1.index.values.tolist()\n",
    "\n",
    "before_nyt_mean1 = before_nyt1['rating'].mean()\n",
    "after_nyt_mean1 = after_nyt1['rating'].mean()\n",
    "\n",
    "print('Davelle (47 reviews):')\n",
    "print('Average Yelp rating 6 months before NYT review: ', before_nyt_mean1)\n",
    "print('Average Yelp rating 6 months after NYT review: ', after_nyt_mean1, '\\n')\n",
    "\n",
    "# get 6 months before NYT review, 6 months after\n",
    "before_time2 = nyt_review_time2 - timedelta(days=90)\n",
    "after_time2 = nyt_review_time2 + timedelta(days=90)\n",
    "\n",
    "# grab reviews before/after NYT review publication\n",
    "before_nyt2 = df2[(df2['review_date'] >= before_time2) & (df2['review_date'] < nyt_review_time2)]\n",
    "after_nyt2 = df2[(df2['review_date'] > nyt_review_time2) & (df2['review_date'] <= after_time2)]\n",
    "\n",
    "# generate indices of \"before\"/\"after\" reviews\n",
    "before_nyt_idx2 = before_nyt2.index.values.tolist()\n",
    "after_nyt_idx2 = after_nyt2.index.values.tolist()\n",
    "\n",
    "before_nyt_mean2 = before_nyt2['rating'].mean()\n",
    "after_nyt_mean2 = after_nyt2['rating'].mean()\n",
    "\n",
    "print('Tim Ho Wan (1197 reviews):')\n",
    "print('Average Yelp rating 6 months before NYT review: ', before_nyt_mean2)\n",
    "print('Average Yelp rating 6 months after NYT review: ', after_nyt_mean2)"
   ]
  },
  {
   "cell_type": "markdown",
   "metadata": {},
   "source": [
    "Since Davelle only has 47 Yelp reviews, and the NYT review was only recently published in June 2018, the lack of reviews may be exaggerating the \"before\"/\"after\" difference. We proceed with examining Yelp reviews before/after NYT review <i>without</i> any time window to see if the difference changes."
   ]
  },
  {
   "cell_type": "markdown",
   "metadata": {},
   "source": [
    "#### Examine \"before\" & \"after\" w/ no time window\n",
    "\n",
    "Examine Yelp rating before & after NYT review publication, with no restriction of time window size for \"before\"/\"after\" NYT review (i.e. all reviews, not just within 6 months, before/after NYT review)"
   ]
  },
  {
   "cell_type": "code",
   "execution_count": 25,
   "metadata": {},
   "outputs": [
    {
     "name": "stdout",
     "output_type": "stream",
     "text": [
      "Davelle (47 reviews):\n",
      "Average Yelp rating before NYT review:  4.333333333333333\n",
      "Average Yelp rating after NYT review:  3.5 \n",
      "\n",
      "Tim Ho Wan (1197 reviews):\n",
      "Average Yelp rating before NYT review:  3.35195530726257\n",
      "Average Yelp rating after NYT review:  3.553544494720965\n"
     ]
    }
   ],
   "source": [
    "before_nyt_nowindow1 = df1[df1['review_date'] <= nyt_review_time1]\n",
    "after_nyt_nowindow1 = df1[df1['review_date'] > nyt_review_time1]\n",
    "\n",
    "before_nyt_nowindow2 = df2[df2['review_date'] <= nyt_review_time2]\n",
    "after_nyt_nowindow2 = df2[df2['review_date'] > nyt_review_time2]\n",
    "\n",
    "print('Davelle (47 reviews):')\n",
    "print('Average Yelp rating before NYT review: ', before_nyt_nowindow1['rating'].mean())\n",
    "print('Average Yelp rating after NYT review: ', after_nyt_nowindow1['rating'].mean(), '\\n')\n",
    "\n",
    "print('Tim Ho Wan (1197 reviews):')\n",
    "print('Average Yelp rating before NYT review: ', before_nyt_nowindow2['rating'].mean())\n",
    "print('Average Yelp rating after NYT review: ', after_nyt_nowindow2['rating'].mean())"
   ]
  },
  {
   "cell_type": "markdown",
   "metadata": {},
   "source": [
    "Not a huge difference, so we might stick with the 6-month window. The rationale is that if we don't restrict the time window after a NYT review, there could be years' worth of Yelp reviews after a NYT review is published, where such subsequent Yelp reviews may have nothing to do with the NYT review."
   ]
  },
  {
   "cell_type": "markdown",
   "metadata": {},
   "source": [
    "# 3. Bootstrapping analysis - Yelp ratings\n",
    "\n",
    "Here, we bootstrap our data to form a null distribution of our data. Then we calculate p-value to determine how likely our actual sample mean would appear under the bootstrapped \"null distribution\". Rejecting the null hypothesis would support a NYT review affecting the restaurant's subsequent Yelp ratings."
   ]
  },
  {
   "cell_type": "markdown",
   "metadata": {},
   "source": [
    "#### Define some functions\n",
    "\n",
    "We use bootstrap sampling from our current \"population\" of reviews to form a null distribution. By drawing randomly from our reviews, we form a distribution in which the reviews are randomly included irrespective of whether they occurrred before or after a NYT review - hence, a \"null hypothesis\" distribution where the population is under the assumption that there is no difference between the \"before\"/\"after\" NYT reviews.\n",
    "\n",
    "Our test statistic is the overall <i>mean</i> Yelp rating. That means we have:\n",
    "- A function that draws observations randomly from our population (a bootstrapped replicate)\n",
    "- Another function that extracts the mean of the boostrapped replicate and repeats the process many times (here, set to 1000 times by default) to obtain a distribution of 1000 sample means (the null distribution)."
   ]
  },
  {
   "cell_type": "code",
   "execution_count": 26,
   "metadata": {},
   "outputs": [],
   "source": [
    "# Bootstrap replicate function\n",
    "\n",
    "def bootstrap_replicate_1d(data, func):\n",
    "    bs_sample = np.random.choice(data, len(data))\n",
    "    return func(bs_sample) \n",
    "\n",
    "# Function that draws multiple bootstrap replicates\n",
    "\n",
    "def draw_bs_reps(data, func, size=1000):\n",
    "\n",
    "    # Initialize array of replicates: bs_replicates\n",
    "    bs_replicates = np.empty(size)\n",
    "\n",
    "    # Generate replicates\n",
    "    for i in range(size):\n",
    "        bs_replicates[i] = bootstrap_replicate_1d(data, func)\n",
    "\n",
    "    return bs_replicates"
   ]
  },
  {
   "cell_type": "markdown",
   "metadata": {},
   "source": [
    "## 3.1 Bootstrapping: all data up to 6 months post-NYT\n",
    "\n",
    "We begin by bootstrapping the overall data for our restaurant example from the previous section. The idea is that the resulting distribution of sample means operates under the assumption that the NYT review never had an effect on the overall Yelp rating (within 6 months post-review, the time window we set for a NYT effect). \n",
    "\n",
    "This means that:\n",
    "- The null distribution is formed by sampling randomly from all Yelp reviews, irrespective of whether they occurred before/after the NYT review.\n",
    "- Our actual sample statistic (that we will be calculating p-value on) is the restaurant's overall Yelp average, 6 months after  the NYT review.\n",
    "\n",
    "So:\n",
    "- H0: A restaurant's NYT review had no effect on the restaurant's average Yelp rating, within 6 months after publication.\n",
    "- HA: A restaurant's NYT review <i>had</i> an effect on the restaurant's average Yelp rating, within 6 months after publication."
   ]
  },
  {
   "cell_type": "markdown",
   "metadata": {},
   "source": [
    "### 3.1.1 Test our bootstrapping process with our previous restaurant example."
   ]
  },
  {
   "cell_type": "code",
   "execution_count": 27,
   "metadata": {},
   "outputs": [],
   "source": [
    "# draw bootstrap samples\n",
    "\n",
    "bs_replicates1 = draw_bs_reps(df1['rating'], np.mean, size=1000) # for small restaurant\n",
    "bs_replicates2 = draw_bs_reps(df2['rating'], np.mean, size=1000) # for large restaurant"
   ]
  },
  {
   "cell_type": "markdown",
   "metadata": {},
   "source": [
    "#### Visualize null distribution of sample means (Yelp average)\n",
    "Visualize the simulated/bootstrapped distribution for the null hypothesis, where the sample means are generated from bootstrapped replicates drawn randomly irrespective of whether it was before/after the NYT review. "
   ]
  },
  {
   "cell_type": "code",
   "execution_count": 28,
   "metadata": {},
   "outputs": [
    {
     "name": "stdout",
     "output_type": "stream",
     "text": [
      "Davelle (47 reviews):\n",
      "Hypothetical Yelp average:  4.198489361702127\n",
      "Our Yelp average:  4.191489361702128 \n",
      "\n",
      "Tim Ho Wan (1197 reviews):\n",
      "Hypothetical Yelp average:  3.4629216666666665\n",
      "Our Yelp average:  3.4045261669024045\n"
     ]
    },
    {
     "data": {
      "image/png": "[encoded data removed]",
      "text/plain": [
       "<matplotlib.figure.Figure at 0x12c702b0>"
      ]
     },
     "metadata": {},
     "output_type": "display_data"
    }
   ],
   "source": [
    "fig, (ax1, ax2) = plt.subplots(nrows=1, ncols=2, figsize=(13,4))\n",
    "\n",
    "# for small restaurant\n",
    "\n",
    "mean_null1 = bs_replicates1.mean()\n",
    "mean_actual1 = df1[df1['review_date'] <= after_time1]['rating'].mean()\n",
    "\n",
    "ax1.hist(bs_replicates1);\n",
    "ax1.set(xlabel='Yelp average rating', ylabel='Frequency', title='Bootstrapped sample means (Yelp rating), Davelle')\n",
    "\n",
    "print('Davelle (47 reviews):')\n",
    "print('Hypothetical Yelp average: ', mean_null1)\n",
    "print('Our Yelp average: ', mean_actual1, '\\n')\n",
    "\n",
    "# for large restaurant\n",
    "\n",
    "mean_null2 = bs_replicates2.mean()\n",
    "mean_actual2 = df2[df2['review_date'] <= after_time2]['rating'].mean()\n",
    "\n",
    "ax2.hist(bs_replicates2);\n",
    "ax2.set(xlabel='Yelp average rating', ylabel='Frequency', title='Bootstrapped sample means (Yelp rating), Tim Ho Wan')\n",
    "\n",
    "print('Tim Ho Wan (1197 reviews):')\n",
    "print('Hypothetical Yelp average: ', mean_null2)\n",
    "print('Our Yelp average: ', mean_actual2)"
   ]
  },
  {
   "cell_type": "markdown",
   "metadata": {},
   "source": [
    "The data has a fairly normal distribution, which is a good sign as this allows us to calculate a p-value under the normal assumption."
   ]
  },
  {
   "cell_type": "markdown",
   "metadata": {},
   "source": [
    "#### Statistical test\n",
    "\n",
    "We calculate the p-value, which is how likely we would get our actual observed sample mean (restaurant's Yelp average 6 months after NYT review) under the null distribution. "
   ]
  },
  {
   "cell_type": "code",
   "execution_count": 29,
   "metadata": {},
   "outputs": [
    {
     "name": "stdout",
     "output_type": "stream",
     "text": [
      "Davelle (small restaurant) p-value:  0.562\n",
      "Tim Ho Wan (large restaurant) p-value:  0.035\n"
     ]
    }
   ],
   "source": [
    "p1 = np.sum( bs_replicates1 >= mean_actual1 ) / len(bs_replicates1)\n",
    "p2 = np.sum( bs_replicates2 <= mean_actual2 ) / len(bs_replicates2)\n",
    "\n",
    "print('Davelle (small restaurant) p-value: ', p1)\n",
    "print('Tim Ho Wan (large restaurant) p-value: ', p2)"
   ]
  },
  {
   "cell_type": "markdown",
   "metadata": {},
   "source": [
    "The p-value isn't significant for Davelle, which means we <i><b>cannot</b></i> reject our null hypothesis that the NYT review made no difference to the Yelp average (within 6 months). However, \"Tim Ho Wan\"'s p-value is significant (${\\alpha}$=0.05), perhaps because it has much more reviews (both pre- & post-NYT review)."
   ]
  },
  {
   "cell_type": "markdown",
   "metadata": {},
   "source": [
    "### 3.1.2 Discussion\n",
    "\n",
    "<b>Washing out effect</b>: Although our p-values weren't significant, the way in which we calculated our \"actual observed\" test statistic, Yelp average rating, may be faulty. Here, we've considered it to be based on the average Yelp rating 6 months after a restaurant's NYT dining review was published (~<b>4.19</b> for \"Davelle\"). However, this average incorporates Yelp reviews written <i>before</i> the NYT review (pre-NYT), which may wash out any effect that changes to Yelp reviews post-NYT could have had.\n",
    "\n",
    "<b>Solution</b>: If we considered instead the average Yelp rating from Yelp reviews beginning with the NYT review publication and 6 months later (i.e. restricted the window for calculating our Yelp average), we may have a different story. In this case, our Yelp average would be ~<b>3.5</b> for \"Davelle\", for instance. We explore this in the next section.\n",
    "\n",
    "To summarize, the pros/cons of our approach in this section are:\n",
    "\n",
    "- <b>Pros</b>: More data - our test statistic is based on the Yelp average of <i>all reviews up to 6 months after NYT review publication</i>. The alternative would be to calculate the Yelp average based <i>only</i> on Yelp reviews written <i>after</i> the NYT review (within 6 months), which could considerably reduce our dataset if we're already dealing w/ a restaurant with <100 reviews.\n",
    "\n",
    "- <b>Cons</b>: Particularly for small datasets or restaurants with recent NYT reviews, any effect of a NYT review may be lost as our test statistic is based on Yelp rating average derived from <i>both</b> pre- and post-NYT review Yelp reviews</i>. A stronger effect, for instance, could be found if we only compared Yelp averages calculated before <i>vs.</i> after NYT review."
   ]
  },
  {
   "cell_type": "markdown",
   "metadata": {},
   "source": [
    "## 3.2 Bootstrapping: only 6 months post-NYT\n",
    "\n",
    "Following up from the previous discussion, we now conduct a statistical test using new criteria for our actual Yelp average. In this case, the Yelp average is calculated from Yelp reviews only written <i><b>after</b></i> the NYT review went live (and up to 6 months after NYT review). \n",
    "\n",
    "The way we bootstrap the data to form our null distribution remains the same, except that rather than drawing from all Yelp reviews in the history of the restaurant, we draw up to 6 months post-NYT review."
   ]
  },
  {
   "cell_type": "code",
   "execution_count": 284,
   "metadata": {},
   "outputs": [
    {
     "name": "stdout",
     "output_type": "stream",
     "text": [
      "Davelle, null dist mean:  4.192106382978723\n",
      "Tim Ho Wan, null dist mean:  3.4028429985855726 \n",
      "\n",
      "Davelle, actual mean:  3.5\n",
      "Tim Ho Wan, actual mean:  3.570588235294118\n"
     ]
    }
   ],
   "source": [
    "# draw bootstrap samples\n",
    "\n",
    "data1 = df1[df1['review_date'] <= after_time1]['rating']\n",
    "data2 = df2[df2['review_date'] <= after_time2]['rating']\n",
    "\n",
    "bs_replicates1_restricted = draw_bs_reps(data1, np.mean, size=1000) # for small restaurant\n",
    "bs_replicates2_restricted = draw_bs_reps(data2, np.mean, size=1000) # for large restaurant\n",
    "\n",
    "print('Davelle, null dist mean: ', bs_replicates1_restricted.mean())\n",
    "print('Tim Ho Wan, null dist mean: ', bs_replicates2_restricted.mean(),'\\n')\n",
    "\n",
    "mean_actual_restricted1 = df1[(df1['review_date'] <= after_time1) & (df1['review_date'] > nyt_review_time1)]['rating'].mean()\n",
    "mean_actual_restricted2  = df2[(df2['review_date'] <= after_time2) & (df2['review_date'] > nyt_review_time2)]['rating'].mean()\n",
    "\n",
    "print('Davelle, actual mean: ', mean_actual_restricted1)\n",
    "print('Tim Ho Wan, actual mean: ', mean_actual_restricted2)"
   ]
  },
  {
   "cell_type": "code",
   "execution_count": 285,
   "metadata": {},
   "outputs": [
    {
     "name": "stdout",
     "output_type": "stream",
     "text": [
      "Davelle (small restaurant) p-value:  0.0\n",
      "Tim Ho Wan (large restaurant) p-value:  0.001\n"
     ]
    }
   ],
   "source": [
    "p1 = np.sum(bs_replicates1 <= mean_actual_restricted1) / len(bs_replicates1)\n",
    "p2 = np.sum(bs_replicates2 >= mean_actual_restricted2) / len(bs_replicates2)\n",
    "\n",
    "print('Davelle (small restaurant) p-value: ', p1)\n",
    "print('Tim Ho Wan (large restaurant) p-value: ', p2)"
   ]
  },
  {
   "cell_type": "markdown",
   "metadata": {},
   "source": [
    "The p-value is now significant (< 0.01), which means we <i><b>reject</b></i> our null hypothesis. Our observed Yelp average is too unlikely under the assumption that the null hypothesis is true, which means there is sufficient evidence that the post-NYT Yelp average is different from pre-NYT average. This result would support the possibility that the NYT review could have impacted Yelp ratings)."
   ]
  },
  {
   "cell_type": "markdown",
   "metadata": {},
   "source": [
    "### Discussion\n",
    "\n",
    "<b>NYT review impact</b>: By taking as our post-NYT Yelp average to only include reviews during the 6 month period following NYT review publication (as opposed to including reviews leading up to NYT review publication as well), we now are able to support the idea that NYT reviews impact Yelp ratings.\n",
    "\n",
    "<b>P-value caution</b>: However, we should keep in mind that the p-values are suspiciously low. This is likely due to the fact that since we restricted our window for calculating post-NYT reviews to just 6 months, this average will almost always deviate highly from the overall Yelp average from which we obtained our bootstrapped null distribution.\n",
    "\n",
    "To alleviate our concerns about inflated p-value, we increase our review size by including <i><b>all</b></i> reviews post-NYT to see if the effect washes out."
   ]
  },
  {
   "cell_type": "markdown",
   "metadata": {},
   "source": [
    "## 3.3 Bootstrapping: all data before/after NYT\n",
    "\n",
    "In the previous section, we saw that the statistical significance of our p-value was likely inflated by the much fewer reviews available to average during the 6 month window post-NYT review publication. Here, we ignore this window and take as our Yelp average all reviews post-NYT (i.e. no 6-month restriction, but up until most recent review)."
   ]
  },
  {
   "cell_type": "code",
   "execution_count": 287,
   "metadata": {},
   "outputs": [
    {
     "name": "stdout",
     "output_type": "stream",
     "text": [
      "Davelle, null dist mean:  4.191765957446809\n",
      "Tim Ho Wan, null dist mean:  3.4617733333333334 \n",
      "\n",
      "Davelle, actual mean:  3.5\n",
      "Tim Ho Wan, actual mean:  3.553544494720965\n"
     ]
    }
   ],
   "source": [
    "# draw bootstrap samples\n",
    "\n",
    "data1_unrestricted = df1['rating']\n",
    "data2_unrestricted = df2['rating']\n",
    "\n",
    "bs_replicates1_unrestricted = draw_bs_reps(data1_unrestricted, np.mean, size=1000) # for small restaurant\n",
    "bs_replicates2_unrestricted = draw_bs_reps(data2_unrestricted, np.mean, size=1000) # for large restaurant\n",
    "\n",
    "print('Davelle, null dist mean: ', bs_replicates1_unrestricted.mean())\n",
    "print('Tim Ho Wan, null dist mean: ', bs_replicates2_unrestricted.mean(),'\\n')\n",
    "\n",
    "actual_unrestricted1 = df1[df1['review_date'] > nyt_review_time1]['rating']\n",
    "actual_unrestricted2 = df2[df2['review_date'] > nyt_review_time2]['rating']\n",
    "\n",
    "mean_actual_unrestricted1 = df1[df1['review_date'] > nyt_review_time1]['rating'].mean()\n",
    "mean_actual_unrestricted2  = df2[df2['review_date'] > nyt_review_time2]['rating'].mean()\n",
    "\n",
    "print('Davelle, actual mean: ', mean_actual_unrestricted1)\n",
    "print('Tim Ho Wan, actual mean: ', mean_actual_unrestricted2)"
   ]
  },
  {
   "cell_type": "code",
   "execution_count": 288,
   "metadata": {},
   "outputs": [
    {
     "name": "stdout",
     "output_type": "stream",
     "text": [
      "Davelle (small restaurant) p-value:  0.0\n",
      "Tim Ho Wan (large restaurant) p-value:  0.004\n"
     ]
    }
   ],
   "source": [
    "p1 = np.sum(bs_replicates1_unrestricted <= mean_actual_unrestricted1) / len(bs_replicates1_unrestricted)\n",
    "p2 = np.sum(bs_replicates2_unrestricted >= mean_actual_unrestricted2) / len(bs_replicates2_unrestricted)\n",
    "\n",
    "print('Davelle (small restaurant) p-value: ', p1)\n",
    "print('Tim Ho Wan (large restaurant) p-value: ', p2)"
   ]
  },
  {
   "cell_type": "markdown",
   "metadata": {},
   "source": [
    "For final measure, we compute how large our subset vs. total set of reviews are."
   ]
  },
  {
   "cell_type": "code",
   "execution_count": 289,
   "metadata": {},
   "outputs": [
    {
     "name": "stdout",
     "output_type": "stream",
     "text": [
      "Davelle: \n",
      "Bootstrapped set:  47 reviews\n",
      "Test subset:  8 reviews\n",
      "\n",
      "Tim Ho Wan: \n",
      "Bootstrapped set:  1200 reviews\n",
      "Test subset:  663 reviews\n"
     ]
    }
   ],
   "source": [
    "print('Davelle: ')\n",
    "print('Bootstrapped set: ', len(data1_unrestricted), 'reviews')\n",
    "print('Test subset: ', len(actual_unrestricted1), 'reviews''\\n')\n",
    "\n",
    "print('Tim Ho Wan: ')\n",
    "print('Bootstrapped set: ', len(data2_unrestricted), 'reviews')\n",
    "print('Test subset: ', len(actual_unrestricted2), 'reviews')"
   ]
  },
  {
   "cell_type": "markdown",
   "metadata": {},
   "source": [
    "Davelle's test subset is much smaller than the larger, complete corpus of reviews. However, \"Tim Ho Wan\"'s subset represents a much larger fraction of all reviews (a little over 50%) and its p-value is still very significant."
   ]
  },
  {
   "cell_type": "markdown",
   "metadata": {},
   "source": [
    "### Discussion\n",
    "\n",
    "Our p-value increased slightly for at least one of our restaurants. However, they remain firmly statistically significant. \n",
    "\n",
    "<b>Subset vs. total set Yelp averages</b>: Inevitably, the sample mean we calculate for our actual pool of Yelp reviews (everything post-NYT review) is smaller than the review pool we draw from for bootstrapping our null distribution (all Yelp reviews in the history of the restaurant). This difference means that it is possible our p-values are still inflated because averaging over a subset of reviews increases the chance that this average will deviate more from an average over the larger, complete corpus of reviews.\n",
    "\n",
    "<b>Conclusion</b>: \n",
    "- <b>Low p-values</b>: Although it would be ideal to work with larger review sizes, we are restricted to a diverse set of both small and large restaurants. Regardless, our p-values are still so low that it could be likely that it will remain statistically significant even if we used larger sample sizes.\n",
    "\n",
    "- <b>Automating statistical testing</b>: We will take the statistical test/bootstrapping process from 3.3 (the previous section) to automate the process of discovering whether a NYT review has impacted a restaurant's Yelp reviews. The rationale is that this is the more conservative of the two techniques we used to determine post-NYT impact."
   ]
  },
  {
   "cell_type": "markdown",
   "metadata": {},
   "source": [
    "# 4. An algorithm for bootstrapping all restaurants - Yelp rating\n",
    "\n",
    "In the previous section, we conducted EDA on two specific restaurant examples to steer us towards the appropriate statistical test/bootstrapping process. Here, we automate the process to all restaurants."
   ]
  },
  {
   "cell_type": "markdown",
   "metadata": {},
   "source": [
    "## 4.1 Conduct statistical test/bootstrapping on each restaurant"
   ]
  },
  {
   "cell_type": "code",
   "execution_count": 46,
   "metadata": {},
   "outputs": [
    {
     "name": "stderr",
     "output_type": "stream",
     "text": [
      "c:\\users\\diana\\appdata\\local\\programs\\python\\python36-32\\lib\\site-packages\\ipykernel_launcher.py:25: RuntimeWarning: invalid value encountered in greater_equal\n"
     ]
    }
   ],
   "source": [
    "pvals_total = []\n",
    "beforenyt_total = []\n",
    "afternyt_total = []\n",
    "diffnyt_total = []\n",
    "\n",
    "for idx, row in df_nyt_yelp.loc[:334].iterrows():\n",
    "    \n",
    "    # get reviews for restaurant\n",
    "    df = df_reviews[df_reviews['review_idx']==idx]\n",
    "    nyt_review_time = row['nyt_review_time']\n",
    "    after_time = nyt_review_time + timedelta(days=180)\n",
    "    \n",
    "    # bootstrap replicates to get 1000 sample means (average Yelp ratings)\n",
    "    bs_replicates = draw_bs_reps(df['rating'], np.mean, size=1000) # for small restaurant\n",
    "    #bs_replicates = draw_bs_reps(df[df['review_date'] <= after_time]['rating'], np.mean, size=1000)\n",
    "    mean_null = bs_replicates.mean()\n",
    "    \n",
    "    # get actual Yelp average\n",
    "    mean_actual = df[df['review_date'] <= after_time]['rating'].mean()\n",
    "    \n",
    "    # get p-value\n",
    "    if mean_actual < mean_null:\n",
    "        p = np.sum(bs_replicates <= mean_actual) / len(bs_replicates)\n",
    "    else:\n",
    "        p = np.sum(bs_replicates >= mean_actual) / len(bs_replicates)\n",
    "    \n",
    "    # get before & after averages\n",
    "    mean_before = df[df['review_date'] <= nyt_review_time]['rating'].mean()\n",
    "    mean_after = df[df['review_date'] > nyt_review_time]['rating'].mean()\n",
    "    mean_diff = mean_after - mean_before\n",
    "    \n",
    "    # save p-value\n",
    "    pvals_total.append(p)\n",
    "    beforenyt_total.append(mean_before)\n",
    "    afternyt_total.append(mean_after)\n",
    "    diffnyt_total.append(mean_diff)"
   ]
  },
  {
   "cell_type": "markdown",
   "metadata": {},
   "source": [
    "#### Combine results with Yelp & NYT info."
   ]
  },
  {
   "cell_type": "code",
   "execution_count": 47,
   "metadata": {},
   "outputs": [
    {
     "data": {
      "text/html": [
       "<div>\n",
       "<style scoped>\n",
       "    .dataframe tbody tr th:only-of-type {\n",
       "        vertical-align: middle;\n",
       "    }\n",
       "\n",
       "    .dataframe tbody tr th {\n",
       "        vertical-align: top;\n",
       "    }\n",
       "\n",
       "    .dataframe thead th {\n",
       "        text-align: right;\n",
       "    }\n",
       "</style>\n",
       "<table border=\"1\" class=\"dataframe\">\n",
       "  <thead>\n",
       "    <tr style=\"text-align: right;\">\n",
       "      <th></th>\n",
       "      <th>critics_pick</th>\n",
       "      <th>mean_after</th>\n",
       "      <th>mean_before</th>\n",
       "      <th>mean_diff</th>\n",
       "      <th>nyt_name</th>\n",
       "      <th>nyt_review_time</th>\n",
       "      <th>nyt_stars</th>\n",
       "      <th>pval</th>\n",
       "      <th>reviewcount</th>\n",
       "      <th>yelp_rating</th>\n",
       "    </tr>\n",
       "  </thead>\n",
       "  <tbody>\n",
       "    <tr>\n",
       "      <th>0</th>\n",
       "      <td>y</td>\n",
       "      <td>3.500000</td>\n",
       "      <td>4.333333</td>\n",
       "      <td>-0.833333</td>\n",
       "      <td>Davelle</td>\n",
       "      <td>2018-06-07</td>\n",
       "      <td>NaN</td>\n",
       "      <td>0.544</td>\n",
       "      <td>47.0</td>\n",
       "      <td>4.0</td>\n",
       "    </tr>\n",
       "    <tr>\n",
       "      <th>1</th>\n",
       "      <td>n</td>\n",
       "      <td>4.250000</td>\n",
       "      <td>4.125000</td>\n",
       "      <td>0.125000</td>\n",
       "      <td>Lahi</td>\n",
       "      <td>2018-05-31</td>\n",
       "      <td>NaN</td>\n",
       "      <td>0.527</td>\n",
       "      <td>34.0</td>\n",
       "      <td>4.0</td>\n",
       "    </tr>\n",
       "    <tr>\n",
       "      <th>2</th>\n",
       "      <td>y</td>\n",
       "      <td>4.809524</td>\n",
       "      <td>4.603774</td>\n",
       "      <td>0.205750</td>\n",
       "      <td>Don Angie</td>\n",
       "      <td>2018-05-29</td>\n",
       "      <td>4.0</td>\n",
       "      <td>0.531</td>\n",
       "      <td>126.0</td>\n",
       "      <td>4.5</td>\n",
       "    </tr>\n",
       "    <tr>\n",
       "      <th>3</th>\n",
       "      <td>n</td>\n",
       "      <td>3.500000</td>\n",
       "      <td>3.448980</td>\n",
       "      <td>0.051020</td>\n",
       "      <td>Rangoon Spoon</td>\n",
       "      <td>2018-05-24</td>\n",
       "      <td>NaN</td>\n",
       "      <td>0.510</td>\n",
       "      <td>55.0</td>\n",
       "      <td>3.5</td>\n",
       "    </tr>\n",
       "    <tr>\n",
       "      <th>4</th>\n",
       "      <td>n</td>\n",
       "      <td>3.666667</td>\n",
       "      <td>3.848485</td>\n",
       "      <td>-0.181818</td>\n",
       "      <td>Wokuni</td>\n",
       "      <td>2018-05-22</td>\n",
       "      <td>3.0</td>\n",
       "      <td>0.520</td>\n",
       "      <td>60.0</td>\n",
       "      <td>4.0</td>\n",
       "    </tr>\n",
       "  </tbody>\n",
       "</table>\n",
       "</div>"
      ],
      "text/plain": [
       "  critics_pick  mean_after  mean_before  mean_diff       nyt_name  \\\n",
       "0            y    3.500000     4.333333  -0.833333        Davelle   \n",
       "1            n    4.250000     4.125000   0.125000           Lahi   \n",
       "2            y    4.809524     4.603774   0.205750      Don Angie   \n",
       "3            n    3.500000     3.448980   0.051020  Rangoon Spoon   \n",
       "4            n    3.666667     3.848485  -0.181818         Wokuni   \n",
       "\n",
       "  nyt_review_time  nyt_stars   pval  reviewcount  yelp_rating  \n",
       "0      2018-06-07        NaN  0.544         47.0          4.0  \n",
       "1      2018-05-31        NaN  0.527         34.0          4.0  \n",
       "2      2018-05-29        4.0  0.531        126.0          4.5  \n",
       "3      2018-05-24        NaN  0.510         55.0          3.5  \n",
       "4      2018-05-22        3.0  0.520         60.0          4.0  "
      ]
     },
     "execution_count": 47,
     "metadata": {},
     "output_type": "execute_result"
    }
   ],
   "source": [
    "df_influence = pd.DataFrame({'nyt_name':df_nyt_yelp.loc[:334]['nyt_name'],\n",
    "              'nyt_review_time':df_nyt_yelp.loc[:334]['nyt_review_time'],\n",
    "              'critics_pick':df_nyt_yelp.loc[:334]['critics_pick'],\n",
    "              'nyt_stars':df_nyt_yelp.loc[:334]['nyt_stars'],\n",
    "              'yelp_rating':df_nyt_yelp.loc[:334]['yelp_rating'],\n",
    "              'reviewcount':df_nyt_yelp.loc[:334]['reviewcount'],\n",
    "              'pval':pvals_total,\n",
    "              'mean_before':beforenyt_total,\n",
    "              'mean_after':afternyt_total,\n",
    "              'mean_diff':diffnyt_total})\n",
    "df_influence.head()"
   ]
  },
  {
   "cell_type": "markdown",
   "metadata": {},
   "source": [
    "## 4.2 \"Significant\" vs. \"insignificant\" restaurants\n",
    "\n",
    "Here, we compare differences between restaurants that showed significant pre- vs. post-NYT review difference in their Yelp ratings (<b>\"significant\"</b> restaurants) vs. those that did not (<b>\"insignificant\"</b>)."
   ]
  },
  {
   "cell_type": "markdown",
   "metadata": {},
   "source": [
    "#### P-values: significant vs. insignificant"
   ]
  },
  {
   "cell_type": "code",
   "execution_count": 71,
   "metadata": {},
   "outputs": [
    {
     "name": "stdout",
     "output_type": "stream",
     "text": [
      "Number of restaurants w/ insignificant p-values:  235\n",
      "Number of restaurants w/ significant p-values:  96\n"
     ]
    }
   ],
   "source": [
    "df_insig = df_influence[df_influence['pval'] > 0.05]\n",
    "df_sig = df_influence[df_influence['pval'] <= 0.05]\n",
    "\n",
    "pval_insig = df_insig.index.values.tolist()\n",
    "pval_sig = df_sig.index.values.tolist()\n",
    "\n",
    "print('Number of restaurants w/ insignificant p-values: ', len(pval_insig))\n",
    "print('Number of restaurants w/ significant p-values: ', len(pval_sig))"
   ]
  },
  {
   "cell_type": "markdown",
   "metadata": {},
   "source": [
    "About 31% of all our restaurants have significant p-values, which means our statistical test/bootstrap process inferred that NYT reviews had an effect on these restaurants' ratings."
   ]
  },
  {
   "cell_type": "markdown",
   "metadata": {},
   "source": [
    "### 4.2.1 Reviewcount, average rating"
   ]
  },
  {
   "cell_type": "code",
   "execution_count": 72,
   "metadata": {},
   "outputs": [
    {
     "data": {
      "image/png": "[encoded data removed]",
      "text/plain": [
       "<matplotlib.figure.Figure at 0x12c37cb0>"
      ]
     },
     "metadata": {},
     "output_type": "display_data"
    }
   ],
   "source": [
    "fig, (ax1, ax2) = plt.subplots(nrows=1, ncols=2, figsize=(13,5))\n",
    "\n",
    "# reviewcount\n",
    "count_insig = df_insig['reviewcount'].mean()\n",
    "count_sig = df_sig['reviewcount'].mean()\n",
    "ax1.bar(['insignificant', 'significant'], [count_insig, count_sig], color='orange')\n",
    "ax1.set(ylabel='# Yelp reviews', title='Average # of Yelp reviews per restaurant');\n",
    "for p1, label1 in zip(ax1.patches, [count_insig, count_sig]):\n",
    "    ax1.annotate(label1, (p1.get_x()+0.1, p1.get_height()+0.2))\n",
    "\n",
    "# average Yelp rating\n",
    "rating_insig = df_insig['yelp_rating'].mean()\n",
    "rating_sig = df_sig['yelp_rating'].mean()\n",
    "ax2.bar(['insignificant', 'significant'], [rating_insig, rating_sig]);\n",
    "ax2.set(ylabel='Average Yelp rating', title='Average Yelp rating per restaurant');\n",
    "for p2, label2 in zip(ax2.patches, [rating_insig, rating_sig]):\n",
    "    ax2.annotate(label2, (p2.get_x()+0.1, p2.get_height()-.15+0.2))"
   ]
  },
  {
   "cell_type": "markdown",
   "metadata": {},
   "source": [
    "Average rating does not actually differ by much between the insigificant and significant restaurants. In fact, significant restaurants have slightly lower average Yelp rating. "
   ]
  },
  {
   "cell_type": "markdown",
   "metadata": {},
   "source": [
    "### 4.2.2 Do \"NYT Critic's Pick\" & NYT stars affect Yelp ratings?"
   ]
  },
  {
   "cell_type": "markdown",
   "metadata": {},
   "source": [
    "From our `data_vis` notebook exploring the meaning behind the \"NYT Critic's Pick\" label, we would not expect much of an effect of this label on Yelp rating outcome. However, we still see that our \"significant\" restaurants (i.e. restaurants w/ statistically significant p-values supporting effect of NYT review on ratings) have a lower rate of \"Critic's Pick\" awarded. This difference may also be due to the fact that there are much fewer \"significant\" restaurants."
   ]
  },
  {
   "cell_type": "code",
   "execution_count": 73,
   "metadata": {},
   "outputs": [
    {
     "name": "stdout",
     "output_type": "stream",
     "text": [
      "% \"Critic\"s Pick (\"insignificant\" restaurants):  0.7191489361702128\n",
      "% \"Critic\"s Pick (\"significant\" restaurants):  0.6458333333333334 \n",
      "\n",
      "% NYT stars (\"insignificant\" restaurants):  0.502127659574468\n",
      "% NYT stars (\"significant\" restaurants):  0.15319148936170213\n"
     ]
    },
    {
     "data": {
      "image/png": "[encoded data removed]",
      "text/plain": [
       "<matplotlib.figure.Figure at 0xebe170>"
      ]
     },
     "metadata": {},
     "output_type": "display_data"
    }
   ],
   "source": [
    "fig, (ax1, ax2) = plt.subplots(nrows=1, ncols=2, figsize=(13,5))\n",
    "\n",
    "# critics pick\n",
    "pick_insig = len(df_insig[df_insig['critics_pick']=='y']) / len(df_insig)\n",
    "pick_sig = len(df_sig[df_sig['critics_pick']=='y']) / len(df_sig)\n",
    "ax1.bar(['insignificant', 'significant'], [pick_insig, pick_sig], color='green')\n",
    "ax1.set(ylabel='% Critics Pick', title='% Critics Pick (within-category)');\n",
    "for p1, label1 in zip(ax1.patches, [pick_insig, pick_sig]):\n",
    "    ax1.annotate(label1, (p1.get_x()+.2, p1.get_height()))\n",
    "\n",
    "# nyt stars\n",
    "stars_insig = len(df_insig[df_insig['nyt_stars'].isnull()==False]) / len(df_insig)\n",
    "stars_sig = len(df_sig[df_sig['nyt_stars'].isnull()==False]) / len(df_insig)\n",
    "ax2.bar(['insignificant', 'significant'], [stars_insig, stars_sig], color='purple');\n",
    "ax2.set(ylabel='% stars', title='% of restaurants w/ NYT stars (within-cateogry)');\n",
    "for p2, label2 in zip(ax2.patches, [stars_insig, stars_sig]):\n",
    "    ax2.annotate(label2, (p2.get_x()+.15, p2.get_height()))\n",
    "    \n",
    "print('% \"Critic\"s Pick (\"insignificant\" restaurants): ', pick_insig)\n",
    "print('% \"Critic\"s Pick (\"significant\" restaurants): ', pick_sig,'\\n')\n",
    "\n",
    "print('% NYT stars (\"insignificant\" restaurants): ', stars_insig)\n",
    "print('% NYT stars (\"significant\" restaurants): ', stars_sig)"
   ]
  },
  {
   "cell_type": "markdown",
   "metadata": {},
   "source": [
    "Counterintuitively, with significant restaurants we actually get fewer % \"Critic's Pick\" and NYT stars. Perhaps the %'s are distorted because we are including both restaurants whose ratings significant increased and <i>decreased</i>. In the next section, we focus on those those whose ratings that only significantly increased"
   ]
  },
  {
   "cell_type": "markdown",
   "metadata": {},
   "source": [
    "### 4.2.3 Follow-up: do \"good\" NYT reviews boost Yelp ratings and \"bad\" reviews damage?\n",
    "\n",
    "In the previous section, we did not differentiate between the effects of a \"good\" or \"bad\" NYT review on ratings. This may have averaged out any effects. Here, we determine whether a \"good\" NYT review will be followed by an increase in Yelp ratings for a restaurant. \n",
    "\n",
    "Our criteria for a <b>\"good\"</b> NYT review is:\n",
    "- Received at least 1 NYT star, <i>and/or</i>\n",
    "- Received NYT's \"Critic's Pick\"\n",
    "\n",
    "On the other hand, a <b>\"bad\"</b> NYT review is:\n",
    "- Received a \"poor\", \"fair\", or \"satisfactory\" rating from the NYT"
   ]
  },
  {
   "cell_type": "code",
   "execution_count": 74,
   "metadata": {},
   "outputs": [
    {
     "name": "stdout",
     "output_type": "stream",
     "text": [
      "Number of \"good\"-NYT reviewed restaurants:  55\n",
      "Number of \"bad\"-NYT reviewed restaurants:  15\n"
     ]
    },
    {
     "data": {
      "image/png": "[encoded data removed]",
      "text/plain": [
       "<matplotlib.figure.Figure at 0x12be7b90>"
      ]
     },
     "metadata": {},
     "output_type": "display_data"
    }
   ],
   "source": [
    "# grab restaurants that were rated under the NYT star system\n",
    "df_stars = df_sig[df_sig['nyt_stars'].isnull()==False]\n",
    "\n",
    "# grab restaurants w/ \"good\" & \"bad\" NYT reviews\n",
    "df_good = df_sig[(df_sig['nyt_stars'] > 3) | (df_sig['critics_pick']=='y')]\n",
    "df_good = df_good.drop(df_good[df_good['nyt_stars'] <= 3].index.values)\n",
    "df_bad = df_sig[df_sig['nyt_stars'] <= 3]\n",
    "\n",
    "good_idx = df_good.index.values\n",
    "bad_idx = df_bad.index.values\n",
    "\n",
    "# separate \"damaged\" & \"boosted\" restaurants\n",
    "df_damaged = df_sig[df_sig['mean_diff'] <= 0] # \"damaged\" restaurants - restaurants w/ significant post-NYT drop in Yelp ratings\n",
    "df_boosted = df_sig[df_sig['mean_diff'] > 0] # vice versa for \"boosted\" restaurants\n",
    "\n",
    "# boosted restaurants\n",
    "good_boosted = len(df_good[df_good['mean_diff'] > 0]) / len(df_good)\n",
    "bad_boosted = len(df_bad[df_bad['mean_diff'] > 0]) / len(df_bad)\n",
    "plt.bar([\"good NYT review\", \"bad NYT review\"], [good_boosted, bad_boosted], color=sns.xkcd_rgb['light pink']);\n",
    "plt.title('% of restaurants receiving \"boost\" in post-NYT Yelp ratings (within-category)');\n",
    "plt.xlabel('restaurants receiving \"good\" or \"bad\" NYT review');\n",
    "plt.ylabel('% restaurants w/ post-NYT \"boost\"');\n",
    "\n",
    "print('Number of \"good\"-NYT reviewed restaurants: ', len(good_idx))\n",
    "print('Number of \"bad\"-NYT reviewed restaurants: ', len(bad_idx))"
   ]
  },
  {
   "cell_type": "markdown",
   "metadata": {},
   "source": [
    "The results still seem counterintuitive - restaurants receiving \"good\" NYT reviews actually have a much smaller proportion of boosted Yelp ratings than the restaurants receiving \"bad\" NYT reviews. \n",
    "\n",
    "We also have to keep in mind that the sample sizes we are dealing with a quite small: 36 \"good\"-NYT reviewed restaurants and 10 \"bad\" - this may also result in extreme %'s."
   ]
  },
  {
   "cell_type": "markdown",
   "metadata": {},
   "source": [
    "### 4.2.4 Discussion"
   ]
  },
  {
   "cell_type": "markdown",
   "metadata": {},
   "source": [
    "We found that ~31% of our restaurants had a significant pre- vs. post-NYT Yelp rating change. Among these restaurants, we also had a small sample size of those receiving \"good\" or \"bad\" NYT reviews. However, our bootstrapping algorithm may be too stringent - our results were mixed and we did not find any impact of NYT reviews on Yelp ratings (in some case, counterintuitive results. \n",
    "\n",
    "Next, we will try an alternative method for parsing \"significant\" and \"insignificant\" restaurants. We use a cutoff and do a simple 1-year pre- and post-NYT Yelp average, rather than bootstrapping."
   ]
  },
  {
   "cell_type": "markdown",
   "metadata": {},
   "source": [
    "## 4.3 Alternative method\n",
    "\n",
    "After experimenting with our bootstrapping method, we assign our own subjective cutoff for what would constitute a significant change in a restaurant's Yelp rating. Let's try setting the cutoff to 0.5 - a 0.5 increase or decrease to a restaurant's averge Yelp rating can make a big difference to how it is perceived (ex. 4.0 is perceived as \"average\", while 4.5 is perceived as \"good\" in Yelp)."
   ]
  },
  {
   "cell_type": "code",
   "execution_count": 101,
   "metadata": {},
   "outputs": [],
   "source": [
    "from datetime import datetime, timedelta\n",
    "\n",
    "beforenyt_12mo = []\n",
    "afternyt_12mo = []\n",
    "idx_lookup = []\n",
    "difference_12mo = []\n",
    "\n",
    "for idx, row in df_nyt_yelp.loc[:334].iterrows():\n",
    "    \n",
    "    # grab info for restaurant\n",
    "    df = df_reviews[df_reviews['review_idx']==idx]\n",
    "    nyt_review_time = row['nyt_review_time']\n",
    "\n",
    "    # get 1 year before NYT review, 1 year after\n",
    "    before_time = nyt_review_time - timedelta(days=360)\n",
    "    after_time = nyt_review_time + timedelta(days=360)\n",
    "\n",
    "    # make sure the restaurant actually has reviews 1 year pre-NYT\n",
    "    if min(df['review_date']) > before_time:\n",
    "        before_nyt = df[df['review_date'] < nyt_review_time]\n",
    "        after_nyt = df[(df['review_date'] > nyt_review_time) & (df['review_date'] <= after_time)].iloc[:len(before_nyt)+1]\n",
    "    else:\n",
    "    # grab reviews before/after NYT review publication\n",
    "        before_nyt = df[(df['review_date'] >= before_time) & (df['review_date'] < nyt_review_time)]\n",
    "        after_nyt = df[(df['review_date'] > nyt_review_time) & (df['review_date'] <= after_time)]\n",
    "\n",
    "    # generate indices of \"before\"/\"after\" reviews\n",
    "    before_nyt_idx = before_nyt.index.values.tolist()\n",
    "    after_nyt_idx = after_nyt.index.values.tolist()\n",
    "\n",
    "    before_nyt_mean = before_nyt['rating'].mean()\n",
    "    after_nyt_mean = after_nyt['rating'].mean()\n",
    "\n",
    "    beforenyt_12mo.append(before_nyt_mean)\n",
    "    afternyt_12mo.append(after_nyt_mean)\n",
    "    difference_12mo.append(after_nyt_mean - before_nyt_mean)\n",
    "    idx_lookup.append(idx)\n",
    "\n",
    "df_influence['noboot_after'] = afternyt_12mo\n",
    "df_influence['noboot_before'] = beforenyt_12mo\n",
    "df_influence['noboot_diff'] = difference_12mo"
   ]
  },
  {
   "cell_type": "markdown",
   "metadata": {},
   "source": [
    "#### Visualize results\n",
    "\n",
    "We plot a histogram of the differences pre- & post-NYT review to visualize the distribution. This plot is overlaid with a fitted normal distribution curve. "
   ]
  },
  {
   "cell_type": "code",
   "execution_count": 78,
   "metadata": {},
   "outputs": [
    {
     "name": "stdout",
     "output_type": "stream",
     "text": [
      "Average difference:  -0.11393325124699266\n"
     ]
    },
    {
     "data": {
      "image/png": "[encoded data removed]",
      "text/plain": [
       "<matplotlib.figure.Figure at 0x147d7390>"
      ]
     },
     "metadata": {},
     "output_type": "display_data"
    }
   ],
   "source": [
    "from scipy import stats \n",
    "\n",
    "df_data = df_influence[df_influence['noboot_diff'].isnull()==False] # index of non-null\n",
    "#df_data = df_influence.loc[difference_notnull]\n",
    "data = df_data['noboot_diff']\n",
    "\n",
    "# plot theoretical normal distribution\n",
    "mu = data.mean()\n",
    "sigma = data.std()\n",
    "samples = np.random.normal(mu, sigma, size = 10000) # Generate theoretical CDF\n",
    "mu_theor, sigma_theor = stats.norm.fit(data) # use Scipy to generate normal dist\n",
    "lnspc = np.linspace(data.min(), data.max(), len(data))\n",
    "pdf = stats.norm.pdf(lnspc, mu_theor, sigma_theor) \n",
    "\n",
    "# histogram of data\n",
    "plt.hist(data, density=True);\n",
    "plt.plot(lnspc, pdf, label=\"Norm\", color='blue') \n",
    "\n",
    "print('Average difference: ', data.mean())"
   ]
  },
  {
   "cell_type": "markdown",
   "metadata": {},
   "source": [
    "The distribution of each restaurant's pre- & post-NYT differences might be sufficiently fitted by a normal distribution to use ${\\alpha}$=0.05 to identify those restaurants that likely had a significant difference. However, let's stick with the 0.5 cutoff for now, since applying a ${\\alpha}$=0.05 criteria for \"significant\" restaurants will significantly lower our sample size."
   ]
  },
  {
   "cell_type": "code",
   "execution_count": 79,
   "metadata": {},
   "outputs": [
    {
     "name": "stdout",
     "output_type": "stream",
     "text": [
      "Number of restaurants w/ insignificant p-values:  69\n",
      "Number of restaurants w/ significant p-values:  245\n"
     ]
    }
   ],
   "source": [
    "df_insig = df_influence[abs(df_influence['noboot_diff']) >= 0.5]\n",
    "df_sig = df_influence[abs(df_influence['noboot_diff'])  < 0.5]\n",
    "\n",
    "#pval_insig = df_insig.index.values.tolist()\n",
    "#pval_sig = df_sig.index.values.tolist()\n",
    "\n",
    "print('Number of restaurants w/ insignificant p-values: ', len(df_insig))\n",
    "print('Number of restaurants w/ significant p-values: ', len(df_sig))"
   ]
  },
  {
   "cell_type": "markdown",
   "metadata": {},
   "source": [
    "There are much more \"significant\" restaurants in comparison to \"insignificant\" ones now. Now, ~78% of our restaurants experienced significant Yelp ratings change, post-NYT (in comparison to our bootstrapping method, with 31%)."
   ]
  },
  {
   "cell_type": "code",
   "execution_count": 80,
   "metadata": {},
   "outputs": [
    {
     "data": {
      "image/png": "[encoded data removed]",
      "text/plain": [
       "<matplotlib.figure.Figure at 0x12b916f0>"
      ]
     },
     "metadata": {},
     "output_type": "display_data"
    }
   ],
   "source": [
    "fig, (ax1, ax2) = plt.subplots(nrows=1, ncols=2, figsize=(13,5))\n",
    "\n",
    "# reviewcount\n",
    "count_insig = df_insig['reviewcount'].mean()\n",
    "count_sig = df_sig['reviewcount'].mean()\n",
    "ax1.bar(['insignificant', 'significant'], [count_insig, count_sig], color='orange')\n",
    "ax1.set(ylabel='# Yelp reviews', title='Average # of Yelp reviews per restaurant');\n",
    "for p1, label1 in zip(ax1.patches, [count_insig, count_sig]):\n",
    "    ax1.annotate(label1, (p1.get_x()+0.1, p1.get_height()+0.2))\n",
    "\n",
    "# average Yelp rating\n",
    "rating_insig = df_insig['yelp_rating'].mean()\n",
    "rating_sig = df_sig['yelp_rating'].mean()\n",
    "ax2.bar(['insignificant', 'significant'], [rating_insig, rating_sig]);\n",
    "ax2.set(ylabel='Average Yelp rating', title='Average Yelp rating per restaurant');\n",
    "for p2, label2 in zip(ax2.patches, [rating_insig, rating_sig]):\n",
    "    ax2.annotate(label2, (p2.get_x()+0.1, p2.get_height()-.15+0.2))"
   ]
  },
  {
   "cell_type": "markdown",
   "metadata": {},
   "source": [
    "- Having more Yelp reviews probably makes it more likely for a restaurant to see significant differences pre- and post-NYT.\n",
    "- Average of \"significant\" restaurants not much different from \"insignificant\", although we have not separated positive & negative-affected restaurants within each category yet."
   ]
  },
  {
   "cell_type": "code",
   "execution_count": 86,
   "metadata": {},
   "outputs": [
    {
     "data": {
      "image/png": "[encoded data removed]",
      "text/plain": [
       "<matplotlib.figure.Figure at 0x12bb5f50>"
      ]
     },
     "metadata": {},
     "output_type": "display_data"
    }
   ],
   "source": [
    "fig, (ax1, ax2) = plt.subplots(nrows=1, ncols=2, figsize=(13,5))\n",
    "\n",
    "# critics pick\n",
    "pick_insig = len(df_insig[df_insig['critics_pick']=='y']) / len(df_insig)\n",
    "pick_sig = len(df_sig[df_sig['critics_pick']=='y']) / len(df_sig)\n",
    "ax1.bar(['insignificant', 'significant'], [pick_insig, pick_sig], color='green')\n",
    "ax1.set(ylabel='% Critics Pick', title='% Critics Pick (within-category)');\n",
    "for p1, label1 in zip(ax1.patches, [pick_insig, pick_sig]):\n",
    "    ax1.annotate(label1, (p1.get_x()+.2, p1.get_height()))\n",
    "\n",
    "# nyt stars\n",
    "stars_insig = len(df_insig[df_insig['nyt_stars'].isnull()==False]) / len(df_insig)\n",
    "stars_sig = len(df_sig[df_sig['nyt_stars'].isnull()==False]) / len(df_sig)\n",
    "ax2.bar(['insignificant', 'significant'], [stars_insig, stars_sig], color='purple');\n",
    "ax2.set(ylabel='% stars', title='% of restaurants w/ NYT stars (within-cateogry)');\n",
    "for p2, label2 in zip(ax2.patches, [stars_insig, stars_sig]):\n",
    "    ax2.annotate(label2, (p2.get_x()+.15, p2.get_height()))"
   ]
  },
  {
   "cell_type": "markdown",
   "metadata": {},
   "source": [
    "\"Critic's Pick\" does not seem to influence whether a restaurant will experience a post-NYT change in Yelp ratings - not surprising since we found how much of a mixed bag \"Critic's Pick\" is in our `data_vis` notebook.\n",
    "\n",
    "On the other hand, \"significant\" restaurants with a post-NYT change were more likely than \"insignificant\" restaurants to have NYT stars in their review. This would align with our expectation that receiving a NYT star (or a bad rating under the star system) would affect subsequent Yelp reviews."
   ]
  },
  {
   "cell_type": "code",
   "execution_count": 87,
   "metadata": {},
   "outputs": [
    {
     "name": "stdout",
     "output_type": "stream",
     "text": [
      "Number of \"good\"-NYT reviewed restaurants:  157\n",
      "Number of \"bad\"-NYT reviewed restaurants:  42\n"
     ]
    },
    {
     "data": {
      "image/png": "[encoded data removed]",
      "text/plain": [
       "<matplotlib.figure.Figure at 0x12bc9e90>"
      ]
     },
     "metadata": {},
     "output_type": "display_data"
    }
   ],
   "source": [
    "# grab restaurants that were rated under the NYT star system\n",
    "df_stars = df_sig[df_sig['nyt_stars'].isnull()==False]\n",
    "\n",
    "# grab restaurants w/ \"good\" & \"bad\" NYT reviews\n",
    "df_good = df_sig[(df_sig['nyt_stars'] >= 3) | (df_sig['critics_pick']=='y')]\n",
    "df_good = df_good.drop(df_good[df_good['nyt_stars'] <= 3].index.values)\n",
    "df_bad = df_sig[df_sig['nyt_stars'] <= 3]\n",
    "\n",
    "good_idx = df_good.index.values\n",
    "bad_idx = df_bad.index.values\n",
    "\n",
    "# separate \"damaged\" & \"boosted\" restaurants\n",
    "df_damaged = df_sig[df_sig['mean_diff'] <= 0] # \"damaged\" restaurants - restaurants w/ significant post-NYT drop in Yelp ratings\n",
    "df_boosted = df_sig[df_sig['mean_diff'] > 0] # vice versa for \"boosted\" restaurants\n",
    "\n",
    "# boosted restaurants\n",
    "good_boosted = len(df_good[df_good['mean_diff'] > 0]) / len(df_good)\n",
    "bad_boosted = len(df_bad[df_bad['mean_diff'] > 0]) / len(df_bad)\n",
    "plt.bar([\"good NYT review\", \"bad NYT review\"], [good_boosted, bad_boosted], color=sns.xkcd_rgb['light pink']);\n",
    "plt.title('% of restaurants receiving \"boost\" in post-NYT Yelp ratings (within-category)');\n",
    "plt.xlabel('restaurants receiving \"good\" or \"bad\" NYT review');\n",
    "plt.ylabel('% restaurants w/ post-NYT \"boost\"');\n",
    "\n",
    "print('Number of \"good\"-NYT reviewed restaurants: ', len(good_idx))\n",
    "print('Number of \"bad\"-NYT reviewed restaurants: ', len(bad_idx))"
   ]
  },
  {
   "cell_type": "markdown",
   "metadata": {},
   "source": [
    "However, as before, having a good NYT review doesn't necessarily mean the restaurant will experience an improvement in Yelp ratings. Sometimes the opposite will occur.\n",
    "\n",
    "One explanation is that positive NYT reviews may bring in more customers, but this also makes the restaurant more susceptible to higher standards, more reviews at the extreme, etc. We explore this in the next section, when we look at whether NYT influences likelihood of post-NYT increase in Yelp reviews."
   ]
  },
  {
   "cell_type": "markdown",
   "metadata": {},
   "source": [
    "## 4.4. The impact of NYT reviews on restaurant popularity\n",
    "\n",
    "Up until now, we have only examined Yelp ratings. Now we examine the possible impact of NYT reviews on restaurant popularity, where popularity is measured by the number of reviews written for a restaurant on Yelp."
   ]
  },
  {
   "cell_type": "code",
   "execution_count": 97,
   "metadata": {},
   "outputs": [],
   "source": [
    "beforecount_total = []\n",
    "aftercount_total = []\n",
    "\n",
    "for idx, row in df_nyt_yelp.loc[:334].iterrows():\n",
    "    \n",
    "    # get reviews for restaurant\n",
    "    df = df_reviews[df_reviews['review_idx']==idx]\n",
    "    nyt_review_time =row['nyt_review_time']\n",
    "    \n",
    "    # get time windows\n",
    "    after_time = nyt_review_time + timedelta(days=180) # 6-month time window cap post-NYT review\n",
    "    before_time = nyt_review_time - timedelta(days=180) # 6-month time window cap pre-NYT review\n",
    "    \n",
    "    # review count per-month before/after NYT review (6-mo window)\n",
    "    before_count = len(df[(df['review_date'] <= nyt_review_time) & (df['review_date'] >= before_time)]) / 6\n",
    "    after_count = len(df[(df['review_date'] > nyt_review_time) & (df['review_date'] <= after_time)]) / 6\n",
    "    \n",
    "    # save p-value\n",
    "    beforecount_total.append(before_count)\n",
    "    aftercount_total.append(after_count)\n",
    "\n",
    "# append results to 'df_influence' dataframe\n",
    "df_influence['count_before'] = beforecount_total\n",
    "df_influence['count_after'] = aftercount_total\n",
    "df_influence['count_difference'] = [aftercount_total - beforecount_total for aftercount_total, beforecount_total in zip(aftercount_total, beforecount_total)]"
   ]
  },
  {
   "cell_type": "markdown",
   "metadata": {},
   "source": [
    "#### The difference between pre- & post-NYT publication review count."
   ]
  },
  {
   "cell_type": "code",
   "execution_count": 98,
   "metadata": {},
   "outputs": [
    {
     "name": "stdout",
     "output_type": "stream",
     "text": [
      "Average difference:  1.4974823766364553 reviews per month\n"
     ]
    },
    {
     "data": {
      "image/png": "[encoded data removed]",
      "text/plain": [
       "<matplotlib.figure.Figure at 0x1486f2f0>"
      ]
     },
     "metadata": {},
     "output_type": "display_data"
    }
   ],
   "source": [
    "plt.hist(df_influence['count_difference'], color='yellow');\n",
    "plt.xlabel('Review count difference (after - before), reviews per month');\n",
    "plt.ylabel('# of restaurants');\n",
    "plt.title('Review count, before vs. after NYT review');\n",
    "print('Average difference: ', sum(df_influence['count_difference'])/len(df_influence['count_difference']),'reviews per month')"
   ]
  },
  {
   "cell_type": "markdown",
   "metadata": {},
   "source": [
    "The distribution of review count differences seems centered around 0. However, there are clearly some restaurants that have a significant popularity difference before vs. after their NYT review was published. "
   ]
  },
  {
   "cell_type": "markdown",
   "metadata": {},
   "source": [
    "#### Restaurants w/ significant popularity changes\n",
    "\n",
    "Since the difference distribution is conveniently centered around 0, we might attempt to determine significant popularity change using stringent criteria - >2 standard deviations from mean = restaurants that have a significant change in popularity post-NYT review. "
   ]
  },
  {
   "cell_type": "code",
   "execution_count": 99,
   "metadata": {},
   "outputs": [
    {
     "name": "stdout",
     "output_type": "stream",
     "text": [
      "Mean:  1.4974823766364551\n",
      "Standard deviation:  5.461274792800573\n"
     ]
    },
    {
     "data": {
      "text/html": [
       "<div>\n",
       "<style scoped>\n",
       "    .dataframe tbody tr th:only-of-type {\n",
       "        vertical-align: middle;\n",
       "    }\n",
       "\n",
       "    .dataframe tbody tr th {\n",
       "        vertical-align: top;\n",
       "    }\n",
       "\n",
       "    .dataframe thead th {\n",
       "        text-align: right;\n",
       "    }\n",
       "</style>\n",
       "<table border=\"1\" class=\"dataframe\">\n",
       "  <thead>\n",
       "    <tr style=\"text-align: right;\">\n",
       "      <th></th>\n",
       "      <th>critics_pick</th>\n",
       "      <th>mean_after</th>\n",
       "      <th>mean_before</th>\n",
       "      <th>mean_diff</th>\n",
       "      <th>nyt_name</th>\n",
       "      <th>nyt_review_time</th>\n",
       "      <th>nyt_stars</th>\n",
       "      <th>pval</th>\n",
       "      <th>reviewcount</th>\n",
       "      <th>yelp_rating</th>\n",
       "      <th>noboot_after</th>\n",
       "      <th>noboot_before</th>\n",
       "      <th>noboot_diff</th>\n",
       "      <th>count_before</th>\n",
       "      <th>count_after</th>\n",
       "      <th>count_difference</th>\n",
       "    </tr>\n",
       "  </thead>\n",
       "  <tbody>\n",
       "    <tr>\n",
       "      <th>2</th>\n",
       "      <td>y</td>\n",
       "      <td>4.809524</td>\n",
       "      <td>4.603774</td>\n",
       "      <td>0.205750</td>\n",
       "      <td>Don Angie</td>\n",
       "      <td>2018-05-29</td>\n",
       "      <td>4.0</td>\n",
       "      <td>0.531</td>\n",
       "      <td>126.0</td>\n",
       "      <td>4.5</td>\n",
       "      <td>4.809524</td>\n",
       "      <td>4.603774</td>\n",
       "      <td>0.205750</td>\n",
       "      <td>15.000000</td>\n",
       "      <td>3.500000</td>\n",
       "      <td>-11.500000</td>\n",
       "    </tr>\n",
       "    <tr>\n",
       "      <th>5</th>\n",
       "      <td>y</td>\n",
       "      <td>3.785714</td>\n",
       "      <td>3.945652</td>\n",
       "      <td>-0.159938</td>\n",
       "      <td>Em</td>\n",
       "      <td>2018-05-17</td>\n",
       "      <td>NaN</td>\n",
       "      <td>0.528</td>\n",
       "      <td>118.0</td>\n",
       "      <td>4.0</td>\n",
       "      <td>3.785714</td>\n",
       "      <td>3.945652</td>\n",
       "      <td>-0.159938</td>\n",
       "      <td>15.333333</td>\n",
       "      <td>4.666667</td>\n",
       "      <td>-10.666667</td>\n",
       "    </tr>\n",
       "    <tr>\n",
       "      <th>17</th>\n",
       "      <td>n</td>\n",
       "      <td>3.503876</td>\n",
       "      <td>2.672862</td>\n",
       "      <td>0.831014</td>\n",
       "      <td>DaDong</td>\n",
       "      <td>2018-03-06</td>\n",
       "      <td>2.0</td>\n",
       "      <td>0.512</td>\n",
       "      <td>392.0</td>\n",
       "      <td>3.0</td>\n",
       "      <td>3.503876</td>\n",
       "      <td>2.672862</td>\n",
       "      <td>0.831014</td>\n",
       "      <td>44.833333</td>\n",
       "      <td>21.500000</td>\n",
       "      <td>-23.333333</td>\n",
       "    </tr>\n",
       "    <tr>\n",
       "      <th>43</th>\n",
       "      <td>y</td>\n",
       "      <td>4.000000</td>\n",
       "      <td>3.777778</td>\n",
       "      <td>0.222222</td>\n",
       "      <td>Cote</td>\n",
       "      <td>2017-11-14</td>\n",
       "      <td>4.0</td>\n",
       "      <td>0.281</td>\n",
       "      <td>390.0</td>\n",
       "      <td>4.0</td>\n",
       "      <td>4.191919</td>\n",
       "      <td>3.765306</td>\n",
       "      <td>0.426613</td>\n",
       "      <td>16.500000</td>\n",
       "      <td>38.666667</td>\n",
       "      <td>22.166667</td>\n",
       "    </tr>\n",
       "    <tr>\n",
       "      <th>86</th>\n",
       "      <td>y</td>\n",
       "      <td>3.553544</td>\n",
       "      <td>3.351955</td>\n",
       "      <td>0.201589</td>\n",
       "      <td>Tim Ho Wan</td>\n",
       "      <td>2017-05-30</td>\n",
       "      <td>3.0</td>\n",
       "      <td>0.170</td>\n",
       "      <td>1197.0</td>\n",
       "      <td>3.5</td>\n",
       "      <td>3.597765</td>\n",
       "      <td>3.354478</td>\n",
       "      <td>0.243288</td>\n",
       "      <td>89.500000</td>\n",
       "      <td>55.000000</td>\n",
       "      <td>-34.500000</td>\n",
       "    </tr>\n",
       "    <tr>\n",
       "      <th>129</th>\n",
       "      <td>n</td>\n",
       "      <td>4.433548</td>\n",
       "      <td>4.336000</td>\n",
       "      <td>0.097548</td>\n",
       "      <td>Thursday Kitchen</td>\n",
       "      <td>2016-11-16</td>\n",
       "      <td>NaN</td>\n",
       "      <td>0.277</td>\n",
       "      <td>899.0</td>\n",
       "      <td>4.5</td>\n",
       "      <td>4.336000</td>\n",
       "      <td>4.330645</td>\n",
       "      <td>0.005355</td>\n",
       "      <td>20.833333</td>\n",
       "      <td>41.500000</td>\n",
       "      <td>20.666667</td>\n",
       "    </tr>\n",
       "    <tr>\n",
       "      <th>130</th>\n",
       "      <td>y</td>\n",
       "      <td>3.963603</td>\n",
       "      <td>3.919255</td>\n",
       "      <td>0.044349</td>\n",
       "      <td>TsuruTonTan Udon Noodle Brasserie</td>\n",
       "      <td>2016-11-16</td>\n",
       "      <td>3.0</td>\n",
       "      <td>0.000</td>\n",
       "      <td>1236.0</td>\n",
       "      <td>4.0</td>\n",
       "      <td>4.043478</td>\n",
       "      <td>3.912500</td>\n",
       "      <td>0.130978</td>\n",
       "      <td>26.833333</td>\n",
       "      <td>61.333333</td>\n",
       "      <td>34.500000</td>\n",
       "    </tr>\n",
       "    <tr>\n",
       "      <th>135</th>\n",
       "      <td>n</td>\n",
       "      <td>4.017595</td>\n",
       "      <td>4.411765</td>\n",
       "      <td>-0.394169</td>\n",
       "      <td>Sushi on Jones</td>\n",
       "      <td>2016-10-26</td>\n",
       "      <td>NaN</td>\n",
       "      <td>0.000</td>\n",
       "      <td>370.0</td>\n",
       "      <td>4.0</td>\n",
       "      <td>4.242424</td>\n",
       "      <td>4.406250</td>\n",
       "      <td>-0.163826</td>\n",
       "      <td>5.666667</td>\n",
       "      <td>19.333333</td>\n",
       "      <td>13.666667</td>\n",
       "    </tr>\n",
       "    <tr>\n",
       "      <th>145</th>\n",
       "      <td>n</td>\n",
       "      <td>4.198370</td>\n",
       "      <td>4.338983</td>\n",
       "      <td>-0.140613</td>\n",
       "      <td>2nd City</td>\n",
       "      <td>2016-09-21</td>\n",
       "      <td>NaN</td>\n",
       "      <td>0.009</td>\n",
       "      <td>545.0</td>\n",
       "      <td>4.0</td>\n",
       "      <td>4.221591</td>\n",
       "      <td>4.342857</td>\n",
       "      <td>-0.121266</td>\n",
       "      <td>29.500000</td>\n",
       "      <td>17.666667</td>\n",
       "      <td>-11.833333</td>\n",
       "    </tr>\n",
       "    <tr>\n",
       "      <th>203</th>\n",
       "      <td>n</td>\n",
       "      <td>4.296167</td>\n",
       "      <td>4.526882</td>\n",
       "      <td>-0.230714</td>\n",
       "      <td>Sons of Thunder</td>\n",
       "      <td>2016-02-10</td>\n",
       "      <td>NaN</td>\n",
       "      <td>0.037</td>\n",
       "      <td>664.0</td>\n",
       "      <td>4.5</td>\n",
       "      <td>4.315217</td>\n",
       "      <td>4.527473</td>\n",
       "      <td>-0.212255</td>\n",
       "      <td>15.500000</td>\n",
       "      <td>39.333333</td>\n",
       "      <td>23.833333</td>\n",
       "    </tr>\n",
       "    <tr>\n",
       "      <th>204</th>\n",
       "      <td>n</td>\n",
       "      <td>3.887283</td>\n",
       "      <td>4.130435</td>\n",
       "      <td>-0.243152</td>\n",
       "      <td>Wisefish Poké</td>\n",
       "      <td>2016-02-10</td>\n",
       "      <td>NaN</td>\n",
       "      <td>0.415</td>\n",
       "      <td>389.0</td>\n",
       "      <td>4.0</td>\n",
       "      <td>3.931818</td>\n",
       "      <td>4.139535</td>\n",
       "      <td>-0.207717</td>\n",
       "      <td>7.666667</td>\n",
       "      <td>28.333333</td>\n",
       "      <td>20.666667</td>\n",
       "    </tr>\n",
       "    <tr>\n",
       "      <th>217</th>\n",
       "      <td>n</td>\n",
       "      <td>4.000000</td>\n",
       "      <td>4.216730</td>\n",
       "      <td>-0.216730</td>\n",
       "      <td>By Chloe</td>\n",
       "      <td>2015-11-25</td>\n",
       "      <td>NaN</td>\n",
       "      <td>0.000</td>\n",
       "      <td>1478.0</td>\n",
       "      <td>4.0</td>\n",
       "      <td>4.160305</td>\n",
       "      <td>4.218391</td>\n",
       "      <td>-0.058085</td>\n",
       "      <td>43.833333</td>\n",
       "      <td>71.666667</td>\n",
       "      <td>27.833333</td>\n",
       "    </tr>\n",
       "    <tr>\n",
       "      <th>261</th>\n",
       "      <td>y</td>\n",
       "      <td>3.709902</td>\n",
       "      <td>4.164609</td>\n",
       "      <td>-0.454707</td>\n",
       "      <td>Mu Ramen</td>\n",
       "      <td>2015-05-06</td>\n",
       "      <td>4.0</td>\n",
       "      <td>0.000</td>\n",
       "      <td>958.0</td>\n",
       "      <td>4.0</td>\n",
       "      <td>3.797521</td>\n",
       "      <td>4.165975</td>\n",
       "      <td>-0.368454</td>\n",
       "      <td>40.500000</td>\n",
       "      <td>25.666667</td>\n",
       "      <td>-14.833333</td>\n",
       "    </tr>\n",
       "    <tr>\n",
       "      <th>265</th>\n",
       "      <td>y</td>\n",
       "      <td>3.565306</td>\n",
       "      <td>4.081633</td>\n",
       "      <td>-0.516327</td>\n",
       "      <td>Santina</td>\n",
       "      <td>2015-04-22</td>\n",
       "      <td>4.0</td>\n",
       "      <td>0.320</td>\n",
       "      <td>538.0</td>\n",
       "      <td>3.5</td>\n",
       "      <td>3.980000</td>\n",
       "      <td>4.081633</td>\n",
       "      <td>-0.101633</td>\n",
       "      <td>8.166667</td>\n",
       "      <td>21.833333</td>\n",
       "      <td>13.666667</td>\n",
       "    </tr>\n",
       "    <tr>\n",
       "      <th>288</th>\n",
       "      <td>y</td>\n",
       "      <td>4.005571</td>\n",
       "      <td>4.214286</td>\n",
       "      <td>-0.208715</td>\n",
       "      <td>Upland</td>\n",
       "      <td>2015-01-14</td>\n",
       "      <td>4.0</td>\n",
       "      <td>0.000</td>\n",
       "      <td>753.0</td>\n",
       "      <td>4.0</td>\n",
       "      <td>4.209302</td>\n",
       "      <td>4.214286</td>\n",
       "      <td>-0.004983</td>\n",
       "      <td>7.000000</td>\n",
       "      <td>21.833333</td>\n",
       "      <td>14.833333</td>\n",
       "    </tr>\n",
       "    <tr>\n",
       "      <th>302</th>\n",
       "      <td>n</td>\n",
       "      <td>3.578014</td>\n",
       "      <td>3.987654</td>\n",
       "      <td>-0.409640</td>\n",
       "      <td>The Bao</td>\n",
       "      <td>2014-10-29</td>\n",
       "      <td>NaN</td>\n",
       "      <td>0.000</td>\n",
       "      <td>930.0</td>\n",
       "      <td>3.5</td>\n",
       "      <td>3.740741</td>\n",
       "      <td>3.987500</td>\n",
       "      <td>-0.246759</td>\n",
       "      <td>13.500000</td>\n",
       "      <td>26.333333</td>\n",
       "      <td>12.833333</td>\n",
       "    </tr>\n",
       "  </tbody>\n",
       "</table>\n",
       "</div>"
      ],
      "text/plain": [
       "    critics_pick  mean_after  mean_before  mean_diff  \\\n",
       "2              y    4.809524     4.603774   0.205750   \n",
       "5              y    3.785714     3.945652  -0.159938   \n",
       "17             n    3.503876     2.672862   0.831014   \n",
       "43             y    4.000000     3.777778   0.222222   \n",
       "86             y    3.553544     3.351955   0.201589   \n",
       "129            n    4.433548     4.336000   0.097548   \n",
       "130            y    3.963603     3.919255   0.044349   \n",
       "135            n    4.017595     4.411765  -0.394169   \n",
       "145            n    4.198370     4.338983  -0.140613   \n",
       "203            n    4.296167     4.526882  -0.230714   \n",
       "204            n    3.887283     4.130435  -0.243152   \n",
       "217            n    4.000000     4.216730  -0.216730   \n",
       "261            y    3.709902     4.164609  -0.454707   \n",
       "265            y    3.565306     4.081633  -0.516327   \n",
       "288            y    4.005571     4.214286  -0.208715   \n",
       "302            n    3.578014     3.987654  -0.409640   \n",
       "\n",
       "                              nyt_name nyt_review_time  nyt_stars   pval  \\\n",
       "2                            Don Angie      2018-05-29        4.0  0.531   \n",
       "5                                   Em      2018-05-17        NaN  0.528   \n",
       "17                              DaDong      2018-03-06        2.0  0.512   \n",
       "43                                Cote      2017-11-14        4.0  0.281   \n",
       "86                          Tim Ho Wan      2017-05-30        3.0  0.170   \n",
       "129                   Thursday Kitchen      2016-11-16        NaN  0.277   \n",
       "130  TsuruTonTan Udon Noodle Brasserie      2016-11-16        3.0  0.000   \n",
       "135                     Sushi on Jones      2016-10-26        NaN  0.000   \n",
       "145                           2nd City      2016-09-21        NaN  0.009   \n",
       "203                    Sons of Thunder      2016-02-10        NaN  0.037   \n",
       "204                      Wisefish Poké      2016-02-10        NaN  0.415   \n",
       "217                           By Chloe      2015-11-25        NaN  0.000   \n",
       "261                           Mu Ramen      2015-05-06        4.0  0.000   \n",
       "265                            Santina      2015-04-22        4.0  0.320   \n",
       "288                             Upland      2015-01-14        4.0  0.000   \n",
       "302                            The Bao      2014-10-29        NaN  0.000   \n",
       "\n",
       "     reviewcount  yelp_rating  noboot_after  noboot_before  noboot_diff  \\\n",
       "2          126.0          4.5      4.809524       4.603774     0.205750   \n",
       "5          118.0          4.0      3.785714       3.945652    -0.159938   \n",
       "17         392.0          3.0      3.503876       2.672862     0.831014   \n",
       "43         390.0          4.0      4.191919       3.765306     0.426613   \n",
       "86        1197.0          3.5      3.597765       3.354478     0.243288   \n",
       "129        899.0          4.5      4.336000       4.330645     0.005355   \n",
       "130       1236.0          4.0      4.043478       3.912500     0.130978   \n",
       "135        370.0          4.0      4.242424       4.406250    -0.163826   \n",
       "145        545.0          4.0      4.221591       4.342857    -0.121266   \n",
       "203        664.0          4.5      4.315217       4.527473    -0.212255   \n",
       "204        389.0          4.0      3.931818       4.139535    -0.207717   \n",
       "217       1478.0          4.0      4.160305       4.218391    -0.058085   \n",
       "261        958.0          4.0      3.797521       4.165975    -0.368454   \n",
       "265        538.0          3.5      3.980000       4.081633    -0.101633   \n",
       "288        753.0          4.0      4.209302       4.214286    -0.004983   \n",
       "302        930.0          3.5      3.740741       3.987500    -0.246759   \n",
       "\n",
       "     count_before  count_after  count_difference  \n",
       "2       15.000000     3.500000        -11.500000  \n",
       "5       15.333333     4.666667        -10.666667  \n",
       "17      44.833333    21.500000        -23.333333  \n",
       "43      16.500000    38.666667         22.166667  \n",
       "86      89.500000    55.000000        -34.500000  \n",
       "129     20.833333    41.500000         20.666667  \n",
       "130     26.833333    61.333333         34.500000  \n",
       "135      5.666667    19.333333         13.666667  \n",
       "145     29.500000    17.666667        -11.833333  \n",
       "203     15.500000    39.333333         23.833333  \n",
       "204      7.666667    28.333333         20.666667  \n",
       "217     43.833333    71.666667         27.833333  \n",
       "261     40.500000    25.666667        -14.833333  \n",
       "265      8.166667    21.833333         13.666667  \n",
       "288      7.000000    21.833333         14.833333  \n",
       "302     13.500000    26.333333         12.833333  "
      ]
     },
     "execution_count": 99,
     "metadata": {},
     "output_type": "execute_result"
    }
   ],
   "source": [
    "from scipy.stats import norm\n",
    "\n",
    "# Fit a normal distribution to the data\n",
    "mu, std = norm.fit(df_influence['count_difference']) \n",
    "print('Mean: ', mu)\n",
    "print('Standard deviation: ', std)\n",
    "\n",
    "# take values >2 standard deviations to be \"significant\"\n",
    "high = mu + 2*std\n",
    "low = mu - 2*std\n",
    "\n",
    "# find \"significant\" restaurants\n",
    "df_influence[(df_influence['count_difference'] >= high)| (df_influence['count_difference'] <= low)]"
   ]
  },
  {
   "cell_type": "markdown",
   "metadata": {},
   "source": [
    "There's not a lot of data to work with, and we can see the types of restaurants (whether they have \"Critic's Pick\", NYT stars, etc) is a mixed bag - there's not really anything that stands out as a contributer to whether a restaurant's popularity is affected by its NYT review.\n",
    "\n",
    "Next, let's try separating results by whether the NYT review was \"good\" or \"bad\", using our previous criteria for what constitutes a good/bad NYT review.\n"
   ]
  },
  {
   "cell_type": "markdown",
   "metadata": {},
   "source": [
    "#### Impact of \"good\" vs. \"bad\" review on restaurant popularity"
   ]
  },
  {
   "cell_type": "code",
   "execution_count": 100,
   "metadata": {},
   "outputs": [
    {
     "data": {
      "image/png": "[encoded data removed]",
      "text/plain": [
       "<matplotlib.figure.Figure at 0x12cac830>"
      ]
     },
     "metadata": {},
     "output_type": "display_data"
    }
   ],
   "source": [
    "# grab indices of \"good\" and \"bad\"-NYT reviewed restaurants\n",
    "good_idx = df_good.index.values\n",
    "bad_idx = df_bad.index.values\n",
    "\n",
    "# grab their count difference info\n",
    "good_diff = df_influence.loc[good_idx]['count_difference']\n",
    "bad_diff = df_influence.loc[bad_idx]['count_difference']\n",
    "\n",
    "# calculation proportion of restaurants seeing boost in Yelp reviews, post-NYT\n",
    "good_diff_prop = sum(good_diff>0) / len(good_diff)\n",
    "bad_diff_prop = sum(bad_diff>0) / len(bad_diff)\n",
    "\n",
    "# plot\n",
    "plt.bar([\"good NYT review\", \"bad NYT review\"], [good_diff_prop, bad_diff_prop], color=sns.xkcd_rgb['mint green']);\n",
    "plt.title('% of restaurants w/ post-NYT increase in # Yelp reviews (within-category)');\n",
    "plt.xlabel('\"good\" or \"bad\"-NYT reviewed restaurants');\n",
    "plt.ylabel('% restaurants w/ increased # Yelp reviews');"
   ]
  },
  {
   "cell_type": "markdown",
   "metadata": {},
   "source": [
    "The results are much more promising, with those restaurants receiving \"good\" NYT reviews experiencing more Yelp reviews following their NYT review (i.e. popularity). The difference between between restaurants receiving \"good\" & \"bad\" NYT reviews isn't as large as expected, however. Also, we should still keep in mind that our sample sizes for each category are small."
   ]
  },
  {
   "cell_type": "markdown",
   "metadata": {},
   "source": [
    "#### Pickle `df_influence` dataframe\n",
    "\n",
    "This dataframe contains all our results related to pre- and post-NYT effects on Yelp ratings. We'll need it in our next notebook on NLP (`df_yelp_NLP`)"
   ]
  },
  {
   "cell_type": "code",
   "execution_count": 103,
   "metadata": {},
   "outputs": [],
   "source": [
    "df_influence.to_pickle('df_influence.pkl')"
   ]
  },
  {
   "cell_type": "markdown",
   "metadata": {},
   "source": [
    "# 5. Discussion\n",
    "\n",
    "In this notebook, we conducted a series of EDA/data visualization to determine whether NYT may have influenced restaurants' Yelp reviews and popularity. \n",
    "\n",
    "1. <b>Bootstrapping algorithm</b>. First, we set up a pipeline for a statistical testing/bootstrapping algorithm that parses restaurants that were likely to have been significantly impacted by their NYT review (\"significant\" restaurants). We found that 31% of restaurants experienced a significant change in Yelp ratings after their NYT review (<b><i>\"significant\"</b></i> restaurants).<p>\n",
    "\n",
    "2. <b>Significant vs. insignificant restaurants</b>. Then, we separated \"significant\" and \"insignificant\" restaurants for comparison between the two groups. Having \"Critic's Pick\" or NYT stars did not significantly increase the likelihood that a restaurant's post-NYT Yelp ratings would change. However, we still have 31% of restaurants that experienced some sort of change post-NYT - upon examining the data, it appears NYT may influence ratings on a case-by-case basis, and there are likely other factors that contribute to post-NYT review changes. <p>\n",
    "\n",
    "3. <b>Less stringent criteria</b>. Since our bootstrapping criteria for \"significant\" restaurants was fairly stringent, we experiment with an alternative method of determining which restaurants experienced significant post-NYT change in Yelp ratings. We simply compare average Yelp rating pre- vs. post-NYT in 1 year window - thus, we compare 1 year w/o NYT review and 1 year after, in which any effect of a NYT review might be expected. Now, 78% of our restaurants are \"significant\". Our results are more promising, with restaurants receiving NYT stars (or a poor rating under the star system) being much more likely to experience post-NYT changes.<p>\n",
    "\n",
    "4. <b>\"Good\" vs. \"bad\" NYT reviews</b>. We then examined only those restaurants w/ significant change in post-NYT Yelp ratings. Among these restaurants, we arrived at a surprising result. If receiving a \"good\" NYT review (stars and/or \"Critic's Pick\"), a restaurant was much less likely to have a positive boost in Yelp ratings - instead, their post-NYT ratings were much likelier to decrease.<p>\n",
    "\n",
    "5. <b>NYT reviews may affect restaurant popularity</b>. Finally, we turned our attention to <i>number</i> of Yelp reviews. We found that among the \"significant\" restaurants, those receiving a positive NYT review (in the form of stars or \"Critic's Pick\") were more likely to experience an increase in Yelp reviews afterwards.<p>\n",
    "\n",
    "<b><u>In summary: </b></u>\n",
    "- Although our tests are not perfect, it seems NYT stars will likely impact Yelp ratings - although there are certainly other factors at play on a case-by-case basis. \n",
    "- Furthermore, restaurants receiving a positive NYT review are more likely to see an increase in # of Yelp reviews - possibly reflecting more customers, hence more Yelp reviews. \n",
    "- However, these customers are more likely to be discerning, as they had read the positive press in NYT and may come in with high expectations. As a result, the restaurant is more likely to get a mixed bag of reviews, post-NYT - hence, the odd increases/decreases in post-Yelp ratings that would not otherwise form a coherent narrative about how a NYT review can positively impact Yelp reviews.\n",
    "\n",
    "In the next notebook (`df_yelp_NLP`), we refine our analysis of NYT influence on Yelp reviews by examining whether NYT reviews affect the language of Yelp reviews. For instance, if a NYT review highlights specific dishes at a restaurant, will post-NYT Yelp reviews be more likely to mention those as well (i.e. dishes more likely to be ordered)? "
   ]
  },
  {
   "cell_type": "code",
   "execution_count": null,
   "metadata": {},
   "outputs": [],
   "source": []
  }
 ],
 "metadata": {
  "kernelspec": {
   "display_name": "Python 3",
   "language": "python",
   "name": "python3"
  },
  "language_info": {
   "codemirror_mode": {
    "name": "ipython",
    "version": 3
   },
   "file_extension": ".py",
   "mimetype": "text/x-python",
   "name": "python",
   "nbconvert_exporter": "python",
   "pygments_lexer": "ipython3",
   "version": "3.6.5"
  }
 },
 "nbformat": 4,
 "nbformat_minor": 2
}
