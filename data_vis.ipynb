{
 "cells": [
  {
   "cell_type": "code",
   "execution_count": 66,
   "metadata": {},
   "outputs": [],
   "source": [
    "import pandas as pd\n",
    "import numpy as np\n",
    "import seaborn as sns\n",
    "import matplotlib.pyplot as plt\n",
    "import matplotlib as mpl \n",
    "from scipy import stats\n",
    "\n",
    "%matplotlib inline\n",
    "mpl.rcParams['patch.force_edgecolor'] = True\n",
    "sns.set()"
   ]
  },
  {
   "cell_type": "markdown",
   "metadata": {},
   "source": [
    "Import dataframe (generated in `data_wrangling` notebook) containing NYT and Yelp data."
   ]
  },
  {
   "cell_type": "code",
   "execution_count": 4,
   "metadata": {},
   "outputs": [
    {
     "data": {
      "text/html": [
       "<div>\n",
       "<style scoped>\n",
       "    .dataframe tbody tr th:only-of-type {\n",
       "        vertical-align: middle;\n",
       "    }\n",
       "\n",
       "    .dataframe tbody tr th {\n",
       "        vertical-align: top;\n",
       "    }\n",
       "\n",
       "    .dataframe thead th {\n",
       "        text-align: right;\n",
       "    }\n",
       "</style>\n",
       "<table border=\"1\" class=\"dataframe\">\n",
       "  <thead>\n",
       "    <tr style=\"text-align: right;\">\n",
       "      <th></th>\n",
       "      <th>nyt_name</th>\n",
       "      <th>nyt_review_time</th>\n",
       "      <th>yelp_id</th>\n",
       "      <th>isclosed</th>\n",
       "      <th>yelp_rating</th>\n",
       "      <th>reviewcount</th>\n",
       "      <th>yelp_price</th>\n",
       "      <th>yelp_url</th>\n",
       "      <th>yelp_name</th>\n",
       "      <th>critics_pick</th>\n",
       "      <th>nyt_stars</th>\n",
       "      <th>yelp_reviews</th>\n",
       "    </tr>\n",
       "  </thead>\n",
       "  <tbody>\n",
       "    <tr>\n",
       "      <th>0</th>\n",
       "      <td>Davelle</td>\n",
       "      <td>June 7, 2018</td>\n",
       "      <td>PwrYnl3j3YCGzILX_5UHpw</td>\n",
       "      <td>False</td>\n",
       "      <td>4.0</td>\n",
       "      <td>47.0</td>\n",
       "      <td>2</td>\n",
       "      <td>https://www.yelp.com/biz/davelle-new-york-2</td>\n",
       "      <td>Davelle</td>\n",
       "      <td>y</td>\n",
       "      <td>NaN</td>\n",
       "      <td>NaN</td>\n",
       "    </tr>\n",
       "    <tr>\n",
       "      <th>1</th>\n",
       "      <td>Lahi</td>\n",
       "      <td>May 31, 2018</td>\n",
       "      <td>kDqW1eeZEDTitXerwzwCzw</td>\n",
       "      <td>False</td>\n",
       "      <td>4.5</td>\n",
       "      <td>4.0</td>\n",
       "      <td>1</td>\n",
       "      <td>https://www.yelp.com/biz/lahi-queens</td>\n",
       "      <td>LAHI</td>\n",
       "      <td>n</td>\n",
       "      <td>NaN</td>\n",
       "      <td>NaN</td>\n",
       "    </tr>\n",
       "    <tr>\n",
       "      <th>2</th>\n",
       "      <td>Don Angie</td>\n",
       "      <td>May 29, 2018</td>\n",
       "      <td>h37t9rA06Sr4EetJjKrfzw</td>\n",
       "      <td>False</td>\n",
       "      <td>4.5</td>\n",
       "      <td>126.0</td>\n",
       "      <td>3</td>\n",
       "      <td>https://www.yelp.com/biz/don-angie-new-york</td>\n",
       "      <td>Don Angie</td>\n",
       "      <td>y</td>\n",
       "      <td>2</td>\n",
       "      <td>NaN</td>\n",
       "    </tr>\n",
       "    <tr>\n",
       "      <th>3</th>\n",
       "      <td>Rangoon Spoon</td>\n",
       "      <td>May 24, 2018</td>\n",
       "      <td>chdmH_y3YReZgIlNzj8djQ</td>\n",
       "      <td>False</td>\n",
       "      <td>3.5</td>\n",
       "      <td>55.0</td>\n",
       "      <td>2</td>\n",
       "      <td>https://www.yelp.com/biz/rangoon-spoon-brooklyn</td>\n",
       "      <td>Rangoon Spoon</td>\n",
       "      <td>n</td>\n",
       "      <td>1</td>\n",
       "      <td>NaN</td>\n",
       "    </tr>\n",
       "    <tr>\n",
       "      <th>4</th>\n",
       "      <td>Wokuni</td>\n",
       "      <td>May 22, 2018</td>\n",
       "      <td>D6ZEcG1FCZ18nekMWrhgMg</td>\n",
       "      <td>False</td>\n",
       "      <td>4.0</td>\n",
       "      <td>60.0</td>\n",
       "      <td>3</td>\n",
       "      <td>https://www.yelp.com/biz/wokuni-new-york</td>\n",
       "      <td>Wokuni</td>\n",
       "      <td>y</td>\n",
       "      <td>NaN</td>\n",
       "      <td>NaN</td>\n",
       "    </tr>\n",
       "  </tbody>\n",
       "</table>\n",
       "</div>"
      ],
      "text/plain": [
       "        nyt_name nyt_review_time                 yelp_id isclosed  \\\n",
       "0        Davelle    June 7, 2018  PwrYnl3j3YCGzILX_5UHpw    False   \n",
       "1           Lahi    May 31, 2018  kDqW1eeZEDTitXerwzwCzw    False   \n",
       "2      Don Angie    May 29, 2018  h37t9rA06Sr4EetJjKrfzw    False   \n",
       "3  Rangoon Spoon    May 24, 2018  chdmH_y3YReZgIlNzj8djQ    False   \n",
       "4         Wokuni    May 22, 2018  D6ZEcG1FCZ18nekMWrhgMg    False   \n",
       "\n",
       "   yelp_rating  reviewcount yelp_price  \\\n",
       "0          4.0         47.0          2   \n",
       "1          4.5          4.0          1   \n",
       "2          4.5        126.0          3   \n",
       "3          3.5         55.0          2   \n",
       "4          4.0         60.0          3   \n",
       "\n",
       "                                          yelp_url      yelp_name  \\\n",
       "0      https://www.yelp.com/biz/davelle-new-york-2        Davelle   \n",
       "1             https://www.yelp.com/biz/lahi-queens           LAHI   \n",
       "2      https://www.yelp.com/biz/don-angie-new-york      Don Angie   \n",
       "3  https://www.yelp.com/biz/rangoon-spoon-brooklyn  Rangoon Spoon   \n",
       "4         https://www.yelp.com/biz/wokuni-new-york         Wokuni   \n",
       "\n",
       "  critics_pick nyt_stars  yelp_reviews  \n",
       "0            y       NaN           NaN  \n",
       "1            n       NaN           NaN  \n",
       "2            y         2           NaN  \n",
       "3            n         1           NaN  \n",
       "4            y       NaN           NaN  "
      ]
     },
     "execution_count": 4,
     "metadata": {},
     "output_type": "execute_result"
    }
   ],
   "source": [
    "df_nyt_yelp = pd.read_pickle('import/df_nyt_yelp.pkl')\n",
    "df_nyt_yelp.head()"
   ]
  },
  {
   "cell_type": "markdown",
   "metadata": {},
   "source": [
    "# 1. Yelp & NYT ratings"
   ]
  },
  {
   "cell_type": "markdown",
   "metadata": {},
   "source": [
    "Our database consists of 563 restaurants that opened between 2012 to 2018. After data wrangling, each restaurant has both Yelp and NYT review data. The two review systems are actually quite different - another reason to visualize their ratings."
   ]
  },
  {
   "cell_type": "markdown",
   "metadata": {},
   "source": [
    "### 1.1 Discussion of Yelp & NYT: two different review systems"
   ]
  },
  {
   "cell_type": "markdown",
   "metadata": {},
   "source": [
    "<b><u>1. Yelp review system</b></u>: Yelp's rating system operates from 1-5, lowest to highest. A restaurant's average rating is taken simply to be the average of all Yelp users' individual review ratings (i.e. no extra weight put on whether a Yelper is \"Elite\", etc.). This is the official documentation for what each rating means:\n",
    "    - 1 = \"Eek! Methinks not.\"\n",
    "    - 2 = \"Meh. I've experienced better.\"\n",
    "    - 3 = \"A-OK.\"\n",
    "    - 4 = \"Yay! I'm a fan.\"\n",
    "    - 5 = \"Woohoo! As good as it gets!\"\n",
    "   However, the user is free to interpret Yelp's rating system as they'd like and therefore is subjected to less control for bias/variance (both between users and within), compared to a news platform such as NYT that employs full-time critics and relies on the perception of consistency. Several interesting phenomena occur as a result, such as \"a Yelp 4.0 being the average\": https://venturebeat.com/2009/10/12/how-yelp-deals-with-everybody-getting-four-stars-on-average/ \n",
    "\n",
    "<b><u>2. NYT review system</b></u>: NYT's review system for restaurants is actually two-fold and consists of two sub-ratings:<p>\n",
    "   <i><b>A. Stars</b></i>: A 1-4 rating system, where only the chief restaurant critic (Pete Wells) can assign star ratings. \n",
    "    - Poor\n",
    "    - Fair\n",
    "    - Satisfactory\n",
    "    - 1 = Good \n",
    "    - 2 = Very Good\n",
    "    - 3 = Excellent\n",
    "    - 4 = Extraordinary\n",
    "    \n",
    "The star system may be somewhat counterintuitive, as any star (even 1) indicates approval from the chief critic and is consisted of merit. As a result, there are 3 additional ratings that precede stars in this system (in order from least to most approval): \"Poor\", \"Fair\", or \"Satisfactory\".\n",
    "<p>\n",
    "<b><i>B. “NYT Critic’s Pick”</b></i> - a seal of approval by any other NYT critic. This rating is binary - either a restaurant receives “NYT Critic’s Pick” or does not receive it, and no numeric scale is given for comparison between each instance of \"NYT Critic's Pick\".\n",
    "    \n",
    "\n",
    "<b>Conclusion</b>: As a result, we'll need to calibrate what consists of a \"good\"/\"bad\" rating label between Yelp and NYT when doing classification analyses later on."
   ]
  },
  {
   "cell_type": "markdown",
   "metadata": {},
   "source": [
    "### 1.2 Yelp & NYT rating distributions"
   ]
  },
  {
   "cell_type": "markdown",
   "metadata": {},
   "source": [
    "To get a better idea of what constitues relatively \"good\"/\"bad\" ratings within and between NYT and Yelp, we first take a look at their rating distributions. Similarly, we also examine the \"NYT Critic's Pick\" label to determine how it is assigned."
   ]
  },
  {
   "cell_type": "code",
   "execution_count": 46,
   "metadata": {},
   "outputs": [
    {
     "name": "stdout",
     "output_type": "stream",
     "text": [
      "Number of restaurants w/ Yelp ratings:  563\n",
      "Number of restaurants w/ NYT stars:  243\n"
     ]
    },
    {
     "data": {
      "image/png": "[encoded data removed]",
      "text/plain": [
       "<matplotlib.figure.Figure at 0xde01e90>"
      ]
     },
     "metadata": {},
     "output_type": "display_data"
    }
   ],
   "source": [
    "fig, (ax1, ax2) = plt.subplots(nrows=1, ncols=2, figsize=(13,5))\n",
    "\n",
    "# Yelp plot\n",
    "sns.countplot(x='yelp_rating', data=df_nyt_yelp, color=sns.xkcd_rgb['red orange'], ax=ax1).set_title('Yelp Ratings (average)');\n",
    "\n",
    "# NYT plot\n",
    "sns.countplot(x='nyt_stars', data=df_nyt_yelp, color=sns.xkcd_rgb['blue'], ax=ax2, \n",
    "              order = ['poor', 'satisfactory', 'fair','1','2','3','4']).set_title('NYT Stars');\n",
    "\n",
    "print('Number of restaurants w/ Yelp ratings: ', len(df_nyt_yelp) - sum(df_nyt_yelp['yelp_rating'].isnull()))\n",
    "print('Number of restaurants w/ NYT stars: ', len(df_nyt_yelp) - sum(df_nyt_yelp['nyt_stars'].isnull()))"
   ]
  },
  {
   "cell_type": "markdown",
   "metadata": {},
   "source": [
    "<b>Yelp ratings</b>: \n",
    "- There's a fairly normal distribution to the ratings, a good sign for avoiding a skewed dataset that would indicate bias in how Yelp users review restaurants overall. \n",
    "- This distribution is also useful to visualize, as we'll need to determine a range of Yelp ratings corresponding to \"good\"/\"bad\" Yelp ratings for classification analysis.\n",
    "\n",
    "<b>NYT stars</b>: \n",
    "- The number of restaurants w/ NYT stars is expected be to much lower, since stars can only be awarded by NYT's chief restaurant critic. \n",
    "- Because any star awarded by the NYT conveys prestige Thus, the NYT review system consists of two parts 1) stars, 2) whether it was a \"NYT Critic's Pick\" (an accolade awarded by any critic at NYT)."
   ]
  },
  {
   "cell_type": "markdown",
   "metadata": {},
   "source": [
    "#### Number of reviews written for each restaurant\n",
    "\n",
    "We can also visualize how many reviews have been written for each restaurant."
   ]
  },
  {
   "cell_type": "code",
   "execution_count": 73,
   "metadata": {},
   "outputs": [
    {
     "data": {
      "image/png": "[encoded data removed]",
      "text/plain": [
       "<matplotlib.figure.Figure at 0xe30fef0>"
      ]
     },
     "metadata": {},
     "output_type": "display_data"
    }
   ],
   "source": [
    "# Generating categories of restaurants by how many Yelp reviews they have\n",
    "\n",
    "num_review_10 = sum(num <= 10 for num in df_nyt_yelp['reviewcount'])\n",
    "num_review_50 = sum(num <= 50 and num > 10 for num in df_nyt_yelp['reviewcount'])\n",
    "num_review_100 = sum(num <= 100 and num > 50 for num in df_nyt_yelp['reviewcount'])\n",
    "num_review_200 = sum(num <= 200 and num > 100 for num in df_nyt_yelp['reviewcount'])\n",
    "num_review_500 = sum(num <= 500 and num > 200 for num in df_nyt_yelp['reviewcount'])\n",
    "num_review_1000 = sum(num <= 1000 and num > 500 for num in df_nyt_yelp['reviewcount'])\n",
    "num_review_2000 = sum(num > 1000 for num in df_nyt_yelp['reviewcount'])\n",
    "\n",
    "labels = ['n < 10','10 < n < 50', '50 < n < 100', '100 < n < 200', '200 < n < 500', '500 < n < 1000', 'n > 1000']\n",
    "\n",
    "a = pd.DataFrame(\n",
    "    {'# of reviews per restaurant': labels,\n",
    "     '# of restaurants w/ n reviews': [num_review_10, num_review_50, num_review_100, \n",
    "                                     num_review_200, num_review_500, num_review_1000, num_review_2000]})\n",
    "\n",
    "ax = a.plot(kind='bar', figsize=(9,4), color = sns.xkcd_rgb['orange'])\n",
    "ax.set_xticklabels(labels, rotation=10);\n",
    "plt.xlabel('# of reviews (n) written for restaurant')\n",
    "plt.ylabel('# of restaurants')\n",
    "plt.title('# of reviews written for restaurants');"
   ]
  },
  {
   "cell_type": "markdown",
   "metadata": {},
   "source": [
    "Although the distribution has a bit of left skew, there is actually a fairly normal distribution of how many reviews our restaurants have received."
   ]
  },
  {
   "cell_type": "markdown",
   "metadata": {},
   "source": [
    "### 1.3 Exploring the meaning behind \"NYT Critic's Pick\"\n",
    "\n",
    "Previously, we've looked at NYT stars and compared this rating system w/ Yelp ratings. Now we take a closer look at \"NYT Critic's Pick\"."
   ]
  },
  {
   "cell_type": "markdown",
   "metadata": {},
   "source": [
    "#### \"NYT Critic's Pick\" (y/n)\n",
    "Following up from our last graph, for comparison the number of restaurants awarded with NYT \"Critic's Pick\" is below:"
   ]
  },
  {
   "cell_type": "code",
   "execution_count": 78,
   "metadata": {},
   "outputs": [
    {
     "data": {
      "image/png": "[encoded data removed]",
      "text/plain": [
       "<matplotlib.figure.Figure at 0xdc9fc90>"
      ]
     },
     "metadata": {},
     "output_type": "display_data"
    }
   ],
   "source": [
    "sns.countplot(x='critics_pick', data=df_nyt_yelp, color=sns.xkcd_rgb['yellow']).set_title('Number of restaurants w/ NYT \"Critics Pick\" (awarded)');"
   ]
  },
  {
   "cell_type": "markdown",
   "metadata": {},
   "source": [
    "383 restaurants were awarded the \"NYT Critic's Pick\" label ('y'), which is appx twice the number that have not. Restaurants that weren't given the \"NYT Critic's Pick\" label could have already been awarded stars. It's possible, however, that the restaurant simply had a write-up or news piece about it. Additionally, it may not have been deemed sufficiently notable to receive  \"Critic's Pick\"."
   ]
  },
  {
   "cell_type": "markdown",
   "metadata": {},
   "source": [
    "#### \"NYT Critic's Pick\" vs. \"NYT stars\"\n",
    "\n",
    "To examine the above results more carefully, we can determine whether restaurants were not awarded \"NYT Critic's Pick\" due to the fact that they were already awarded stars. We perform a correlation between whether  \"NYT Critic's Pick\" restaurants tend to have stars (or not). "
   ]
  },
  {
   "cell_type": "code",
   "execution_count": 167,
   "metadata": {},
   "outputs": [
    {
     "data": {
      "image/png": "[encoded data removed]",
      "text/plain": [
       "<matplotlib.figure.Figure at 0xe47a950>"
      ]
     },
     "metadata": {},
     "output_type": "display_data"
    }
   ],
   "source": [
    "# Generate categories\n",
    "df = df_nyt_yelp[df_nyt_yelp['critics_pick']=='n']\n",
    "nopick_stars = sum(df['nyt_stars'].isnull())\n",
    "nopick_nostars = len(df)-nopick_stars\n",
    "\n",
    "# Plot histogram\n",
    "labels = ['no NYT pick, has NYT stars', 'no NYT pick, no NYT stars']\n",
    "a = pd.DataFrame({'# of reviews per restaurant': labels,\n",
    "                  'review systems for restaurant': [nopick_stars, nopick_nostars]})\n",
    "ax = a.plot(kind='bar', figsize=(5,4), color = sns.xkcd_rgb['green'])\n",
    "ax.set_xticklabels(labels, rotation=10);\n",
    "plt.ylabel('# of restaurants')\n",
    "plt.title('# of no-\"Pick\" restaurants & whether also rated on star system');\n",
    "ax.legend_.remove()\n",
    "\n",
    "for p, label in zip(ax.patches, [nopick_stars, nopick_nostars]):\n",
    "    ax.annotate(label, (p.get_x()+0.2, p.get_height()+0.2))"
   ]
  },
  {
   "cell_type": "markdown",
   "metadata": {},
   "source": [
    "There were 51 restaurants that were both not deemed noteworthy and did not have stars. There are more than twice the number of restaurants that had NYT stars, despite not receiving \"NYT Critic's Pick\". This indicates that:\n",
    "- We should not rely solely on NYT stars or \"NYT Critic's Pick\" to label \"good\"/\"bad\"-rated restaurants (under the NYT review system).\n",
    "- There are probably ~ 51 restaurants that are \"neither good nor bad\", as they did not receive a poor rating under NYT's star system (since they were never evaluated under this system) but also were not deemed sufficiently noteworthy to receive a \"Critic's Pick\" label."
   ]
  },
  {
   "cell_type": "markdown",
   "metadata": {},
   "source": [
    "### 1.4 Restaurant closures"
   ]
  },
  {
   "cell_type": "code",
   "execution_count": 136,
   "metadata": {},
   "outputs": [
    {
     "data": {
      "image/png": "[encoded data removed]",
      "text/plain": [
       "<matplotlib.figure.Figure at 0xdb9b110>"
      ]
     },
     "metadata": {},
     "output_type": "display_data"
    }
   ],
   "source": [
    "sns.countplot(x='isclosed', data=df_nyt_yelp, color=sns.xkcd_rgb['light olive']).set_title('Restaurant Closures');\n",
    "\n",
    "num_open = len(df_nyt_yelp)-sum(df_nyt_yelp['isclosed'])\n",
    "num_closed = sum(df_nyt_yelp['isclosed'])\n",
    "\n",
    "ax = sns.countplot(x='isclosed', data=df_nyt_yelp, color=sns.xkcd_rgb['light olive']);\n",
    "for p, label in zip(ax.patches, [num_open, num_closed]):\n",
    "    ax.annotate(label, (p.get_x()+0.375, p.get_height()+0.2))"
   ]
  },
  {
   "cell_type": "markdown",
   "metadata": {},
   "source": [
    "### 1.3 When were ratings published?"
   ]
  },
  {
   "cell_type": "markdown",
   "metadata": {},
   "source": [
    "Convert `nyt_review_time` column values to datetime objects."
   ]
  },
  {
   "cell_type": "code",
   "execution_count": null,
   "metadata": {},
   "outputs": [],
   "source": [
    "from dateutil import parser\n",
    "\n",
    "df_nyt_yelp['nyt_review_time'] = [parser.parse(t) for t in df_nyt_yelp['nyt_review_time']]"
   ]
  },
  {
   "cell_type": "markdown",
   "metadata": {},
   "source": [
    "Number of NYT restaurant reviews published online seems fairly consistent after 2011 - this is reassuring, since we begin our Yelp and NYT data collection for restaurants reviewed in NYT beginning in 2012. Since we are still mid-way through 2018, difficult to say what 2018 will look like by the end of year."
   ]
  },
  {
   "cell_type": "code",
   "execution_count": 162,
   "metadata": {},
   "outputs": [
    {
     "data": {
      "image/png": "[encoded data removed]",
      "text/plain": [
       "<matplotlib.figure.Figure at 0xdc05a10>"
      ]
     },
     "metadata": {},
     "output_type": "display_data"
    }
   ],
   "source": [
    "years = [t.year for t in df_nyt_yelp['nyt_review_time']]\n",
    "ax = sns.countplot(years, color=sns.xkcd_rgb['purple']).set_title('years NYT reviews were published');"
   ]
  },
  {
   "cell_type": "code",
   "execution_count": 163,
   "metadata": {},
   "outputs": [
    {
     "data": {
      "text/html": [
       "<div>\n",
       "<style scoped>\n",
       "    .dataframe tbody tr th:only-of-type {\n",
       "        vertical-align: middle;\n",
       "    }\n",
       "\n",
       "    .dataframe tbody tr th {\n",
       "        vertical-align: top;\n",
       "    }\n",
       "\n",
       "    .dataframe thead th {\n",
       "        text-align: right;\n",
       "    }\n",
       "</style>\n",
       "<table border=\"1\" class=\"dataframe\">\n",
       "  <thead>\n",
       "    <tr style=\"text-align: right;\">\n",
       "      <th></th>\n",
       "      <th>nyt_name</th>\n",
       "      <th>nyt_review_time</th>\n",
       "      <th>yelp_id</th>\n",
       "      <th>isclosed</th>\n",
       "      <th>yelp_rating</th>\n",
       "      <th>reviewcount</th>\n",
       "      <th>yelp_price</th>\n",
       "      <th>yelp_url</th>\n",
       "      <th>yelp_name</th>\n",
       "      <th>critics_pick</th>\n",
       "      <th>nyt_stars</th>\n",
       "      <th>yelp_reviews</th>\n",
       "    </tr>\n",
       "  </thead>\n",
       "  <tbody>\n",
       "    <tr>\n",
       "      <th>0</th>\n",
       "      <td>Davelle</td>\n",
       "      <td>2018-06-07</td>\n",
       "      <td>PwrYnl3j3YCGzILX_5UHpw</td>\n",
       "      <td>False</td>\n",
       "      <td>4.0</td>\n",
       "      <td>47.0</td>\n",
       "      <td>2</td>\n",
       "      <td>https://www.yelp.com/biz/davelle-new-york-2</td>\n",
       "      <td>Davelle</td>\n",
       "      <td>y</td>\n",
       "      <td>NaN</td>\n",
       "      <td>NaN</td>\n",
       "    </tr>\n",
       "    <tr>\n",
       "      <th>1</th>\n",
       "      <td>Lahi</td>\n",
       "      <td>2018-05-31</td>\n",
       "      <td>kDqW1eeZEDTitXerwzwCzw</td>\n",
       "      <td>False</td>\n",
       "      <td>4.5</td>\n",
       "      <td>4.0</td>\n",
       "      <td>1</td>\n",
       "      <td>https://www.yelp.com/biz/lahi-queens</td>\n",
       "      <td>LAHI</td>\n",
       "      <td>n</td>\n",
       "      <td>NaN</td>\n",
       "      <td>NaN</td>\n",
       "    </tr>\n",
       "    <tr>\n",
       "      <th>2</th>\n",
       "      <td>Don Angie</td>\n",
       "      <td>2018-05-29</td>\n",
       "      <td>h37t9rA06Sr4EetJjKrfzw</td>\n",
       "      <td>False</td>\n",
       "      <td>4.5</td>\n",
       "      <td>126.0</td>\n",
       "      <td>3</td>\n",
       "      <td>https://www.yelp.com/biz/don-angie-new-york</td>\n",
       "      <td>Don Angie</td>\n",
       "      <td>y</td>\n",
       "      <td>2</td>\n",
       "      <td>NaN</td>\n",
       "    </tr>\n",
       "    <tr>\n",
       "      <th>3</th>\n",
       "      <td>Rangoon Spoon</td>\n",
       "      <td>2018-05-24</td>\n",
       "      <td>chdmH_y3YReZgIlNzj8djQ</td>\n",
       "      <td>False</td>\n",
       "      <td>3.5</td>\n",
       "      <td>55.0</td>\n",
       "      <td>2</td>\n",
       "      <td>https://www.yelp.com/biz/rangoon-spoon-brooklyn</td>\n",
       "      <td>Rangoon Spoon</td>\n",
       "      <td>n</td>\n",
       "      <td>1</td>\n",
       "      <td>NaN</td>\n",
       "    </tr>\n",
       "    <tr>\n",
       "      <th>4</th>\n",
       "      <td>Wokuni</td>\n",
       "      <td>2018-05-22</td>\n",
       "      <td>D6ZEcG1FCZ18nekMWrhgMg</td>\n",
       "      <td>False</td>\n",
       "      <td>4.0</td>\n",
       "      <td>60.0</td>\n",
       "      <td>3</td>\n",
       "      <td>https://www.yelp.com/biz/wokuni-new-york</td>\n",
       "      <td>Wokuni</td>\n",
       "      <td>y</td>\n",
       "      <td>NaN</td>\n",
       "      <td>NaN</td>\n",
       "    </tr>\n",
       "  </tbody>\n",
       "</table>\n",
       "</div>"
      ],
      "text/plain": [
       "        nyt_name nyt_review_time                 yelp_id isclosed  \\\n",
       "0        Davelle      2018-06-07  PwrYnl3j3YCGzILX_5UHpw    False   \n",
       "1           Lahi      2018-05-31  kDqW1eeZEDTitXerwzwCzw    False   \n",
       "2      Don Angie      2018-05-29  h37t9rA06Sr4EetJjKrfzw    False   \n",
       "3  Rangoon Spoon      2018-05-24  chdmH_y3YReZgIlNzj8djQ    False   \n",
       "4         Wokuni      2018-05-22  D6ZEcG1FCZ18nekMWrhgMg    False   \n",
       "\n",
       "   yelp_rating  reviewcount yelp_price  \\\n",
       "0          4.0         47.0          2   \n",
       "1          4.5          4.0          1   \n",
       "2          4.5        126.0          3   \n",
       "3          3.5         55.0          2   \n",
       "4          4.0         60.0          3   \n",
       "\n",
       "                                          yelp_url      yelp_name  \\\n",
       "0      https://www.yelp.com/biz/davelle-new-york-2        Davelle   \n",
       "1             https://www.yelp.com/biz/lahi-queens           LAHI   \n",
       "2      https://www.yelp.com/biz/don-angie-new-york      Don Angie   \n",
       "3  https://www.yelp.com/biz/rangoon-spoon-brooklyn  Rangoon Spoon   \n",
       "4         https://www.yelp.com/biz/wokuni-new-york         Wokuni   \n",
       "\n",
       "  critics_pick nyt_stars  yelp_reviews  \n",
       "0            y       NaN           NaN  \n",
       "1            n       NaN           NaN  \n",
       "2            y         2           NaN  \n",
       "3            n         1           NaN  \n",
       "4            y       NaN           NaN  "
      ]
     },
     "execution_count": 163,
     "metadata": {},
     "output_type": "execute_result"
    }
   ],
   "source": [
    "df_nyt_yelp.head()"
   ]
  },
  {
   "cell_type": "code",
   "execution_count": null,
   "metadata": {},
   "outputs": [],
   "source": []
  }
 ],
 "metadata": {
  "kernelspec": {
   "display_name": "Python 3",
   "language": "python",
   "name": "python3"
  },
  "language_info": {
   "codemirror_mode": {
    "name": "ipython",
    "version": 3
   },
   "file_extension": ".py",
   "mimetype": "text/x-python",
   "name": "python",
   "nbconvert_exporter": "python",
   "pygments_lexer": "ipython3",
   "version": "3.6.5"
  }
 },
 "nbformat": 4,
 "nbformat_minor": 2
}
